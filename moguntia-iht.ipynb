{
 "cells": [
  {
   "cell_type": "markdown",
   "metadata": {},
   "source": [
    "\n",
    "# MOGUNTIA exercises\n",
    "\n",
    "---------\n",
    "<FONT COLOR=red>\n",
    "\n",
    "# Interhemispheric transport\n",
    "\n",
    "<FONT COLOR=black> \n",
    "\n",
    "\n",
    "----------\n",
    "\n",
    "\n",
    "\n",
    "##### Maarten Krol, September 2019\n",
    "##### version 2.1\n",
    "\n",
    "### Goal\n",
    "\n",
    "> * Investigate longer time-scales in the model. \n",
    "> * What is the exchange time between the northern and southern hemispheres? \n",
    "> * How are these time scales defined? \n",
    "> * What is the influence of the tracer lifetime and convection?\n",
    "\n",
    "### Introduction\n",
    "\n",
    "The intertropical convergence zone (ITCZ) forms a duct between the Northern Hemisphere (NH) and the Southern Hemisphere (SH). Due to convergence near the equator, deep convection occurs. Air from the NH encounters air from the SH and airmasses are lifted (this process is enhanced by condensation).\n",
    "\n",
    "Chemically speaking, differences exist in NH air and SH air. Because most emissions occur in the NH, concentrations of (longer lived) pollutants are normally higher in the NH.\n",
    "\n",
    "Mixing of NH and SH air masses occurs relatively slowly because of the presence of the ITCZ. In the exercises described here, several methods will be investigated to determine the mixing time scale between the NH and SH.\n",
    "\n",
    "First, we will release a tracer over land during 3 months. This will create an interhemispheric gradient. Then, the decaying interhemispheric concentration gradient will be used to determine a characteristic time scale.\n",
    "\n",
    "> * Run MOGUNTIA with the input file inter1.in (no output generated)\n",
    "> * Directly run MOGUNTIA with the input file inter2.in\n",
    "\n",
    ">> If you are not yet familiar with running MOGUNTIA, please complete **moguntia-training** first\n",
    "\n"
   ]
  },
  {
   "cell_type": "code",
   "execution_count": 1,
   "metadata": {},
   "outputs": [
    {
     "data": {
      "application/vnd.jupyter.widget-view+json": {
       "model_id": "138d46c9c6b24a8196eb4d8fba24c92c",
       "version_major": 2,
       "version_minor": 0
      },
      "text/html": [
       "<p>Failed to display Jupyter Widget of type <code>Box</code>.</p>\n",
       "<p>\n",
       "  If you're reading this message in the Jupyter Notebook or JupyterLab Notebook, it may mean\n",
       "  that the widgets JavaScript is still loading. If this message persists, it\n",
       "  likely means that the widgets JavaScript library is either not installed or\n",
       "  not enabled. See the <a href=\"https://ipywidgets.readthedocs.io/en/stable/user_install.html\">Jupyter\n",
       "  Widgets Documentation</a> for setup instructions.\n",
       "</p>\n",
       "<p>\n",
       "  If you're reading this message in another frontend (for example, a static\n",
       "  rendering on GitHub or <a href=\"https://nbviewer.jupyter.org/\">NBViewer</a>),\n",
       "  it may mean that your frontend doesn't currently support widgets.\n",
       "</p>\n"
      ],
      "text/plain": [
       "Box(children=(Box(children=(Dropdown(description=u'Inputfile', options=('Exercise1.in', 'Exercise1b.in', 'TrainingNew.in', 'co_budget.in', 'co_budget1.in', 'co_methane.in', 'co_simualtion.in', 'fossil.in', 'fossil2.in', 'fossil3.in', 'inter1.in', 'inter2.in', 'inter3.in', 'inter4.in', 'inter_nokonv1.in', 'inter_nokonv2.in', 'japan.in', 'mcf.in', 'mcf_new.in', 'mcf_newest.in', 'point.in', 'pointt.in', 'radon_konv1.in', 'radon_konv2.in', 'radon_nokonv1.in', 'radon_nokonv2.in', 'test4.in'), value='Exercise1.in'), Button(description=u'Run Model', style=ButtonStyle()), ToggleButton(value=False, description=u'Make Plots'), ToggleButton(value=False, description=u'Overplot')), layout=Layout(display=u'flex', flex_flow=u'row', justify_content=u'space-between')), Box(children=(SelectMultiple(description=u'Output', index=(0,), options=('xx',), value=('xx',)), SelectMultiple(index=(0,), options=('no station',), value=('no station',)), SelectMultiple(layout=Layout(visibility=u'hidden'), options=('no station',), value=())), layout=Layout(display=u'flex', flex_flow=u'row', justify_content=u'space-between')), Box(children=(Label(value=u'conversion'), ToggleButtons(options=('mol/mol', 'ppm', 'ppb', 'ppt'), value='mol/mol')), layout=Layout(display=u'flex', flex_flow=u'row', justify_content=u'space-between')), Box(children=(Label(value=u'# levels', layout=Layout(visibility=u'hidden')), IntSlider(value=10, layout=Layout(visibility=u'hidden'), max=30, min=5), Checkbox(value=True, description=u'grid'), Checkbox(value=True, description=u'automatic')), layout=Layout(display=u'flex', flex_flow=u'row', justify_content=u'space-between')), Box(children=(Label(value=u'yMin, yMax', layout=Layout(visibility=u'hidden')), BoundedFloatText(value=0.0, description=u'Min', layout=Layout(visibility=u'hidden'), max=10000000000.0), BoundedFloatText(value=10000000000.0, description=u'Max', layout=Layout(visibility=u'hidden'), max=100000000000.0)), layout=Layout(display=u'flex', flex_flow=u'row', justify_content=u'space-between')), Box(children=(Label(value=u'xMin, xMax', layout=Layout(visibility=u'hidden')), BoundedFloatText(value=1900.0849315068492, description=u'Tmin', layout=Layout(visibility=u'hidden'), max=2020.0849315068492), BoundedFloatText(value=2020.0849315068492, description=u'Tmax', layout=Layout(visibility=u'hidden'), max=20200.84931506849, min=1900.0849315068492)), layout=Layout(display=u'flex', flex_flow=u'row', justify_content=u'space-between'))), layout=Layout(align_items=u'stretch', border=u'solid 2px', display=u'flex', flex_flow=u'column', width=u'100%'))"
      ]
     },
     "metadata": {},
     "output_type": "display_data"
    },
    {
     "data": {
      "application/vnd.jupyter.widget-view+json": {
       "model_id": "b64ffcc57260460e880db03b26585e54",
       "version_major": 2,
       "version_minor": 0
      },
      "text/html": [
       "<p>Failed to display Jupyter Widget of type <code>interactive</code>.</p>\n",
       "<p>\n",
       "  If you're reading this message in the Jupyter Notebook or JupyterLab Notebook, it may mean\n",
       "  that the widgets JavaScript is still loading. If this message persists, it\n",
       "  likely means that the widgets JavaScript library is either not installed or\n",
       "  not enabled. See the <a href=\"https://ipywidgets.readthedocs.io/en/stable/user_install.html\">Jupyter\n",
       "  Widgets Documentation</a> for setup instructions.\n",
       "</p>\n",
       "<p>\n",
       "  If you're reading this message in another frontend (for example, a static\n",
       "  rendering on GitHub or <a href=\"https://nbviewer.jupyter.org/\">NBViewer</a>),\n",
       "  it may mean that your frontend doesn't currently support widgets.\n",
       "</p>\n"
      ],
      "text/plain": [
       "interactive(children=(ToggleButton(value=False, description=u'Make Plots'), Output()), _dom_classes=('widget-interact',))"
      ]
     },
     "metadata": {},
     "output_type": "display_data"
    }
   ],
   "source": [
    "# MOGUNTIA run widgets:\n",
    "from plot_moguntia import *\n",
    "pm = plot_moguntia()"
   ]
  },
  {
   "cell_type": "markdown",
   "metadata": {},
   "source": [
    "### Exercise: Interhemispheric transport\n",
    "\n",
    "Use the analysis widget  and have a look at the zonally averaged concentration plots\n",
    "\n",
    ">  Q1: Where does the interhemispheric transport takes place in the model, in the upper or lower troposphere?"
   ]
  },
  {
   "cell_type": "markdown",
   "metadata": {},
   "source": [
    "### Analyze the output\n",
    "\n",
    "First, have a look at the zonally averaged concentration plots.\n",
    "> * Where does the interhemispheric transport takes place in the model, in the upper or lower troposphere?\n",
    "\n",
    "Next, analyze the station output. Remember that the output is requested at 500 hPa.\n",
    "> * Can you understand the strange peak at the 25S station?\n",
    "\n",
    "From the decaying gradient, a time scale can be derived, using:\n",
    "\n",
    "> d N / dt = - d S / dt = -(Na-Sa)/tau\n",
    "\n",
    "> d (N-S) / dt = d N/ dt - d S/ dt = -2 (Na-Sa)/tau\n",
    "\n",
    "> tau = -2 (Na-Sa)/ (d (N-S) /dt)\n",
    "\n",
    "> N : mean concentration NH\n",
    "\n",
    "> S: mean concentration SH\n",
    "\n",
    "> (N-S): concentration gradient\n",
    "\n",
    "> tau: time scale for interhemispheric transport\n",
    "\n",
    "> (Na-Sa): mean concentration gradient, averaged over the simulation period (e.g. one year).\n"
   ]
  },
  {
   "cell_type": "markdown",
   "metadata": {},
   "source": [
    "### Exercise: Determine tau\n",
    "\n",
    "Use the analysis widget and have a look at the zonally averaged concentration plots\n",
    "\n",
    ">  Q2: Use the 45N and 45S output to determine tau.\n",
    "\n",
    ">  Q3: Repeat the same for 65N / 65S and 25N / 25S - are the results consistent?"
   ]
  },
  {
   "cell_type": "code",
   "execution_count": 2,
   "metadata": {},
   "outputs": [
    {
     "data": {
      "application/vnd.jupyter.widget-view+json": {
       "model_id": "9714624cfd494411bf4f7a418a637866",
       "version_major": 2,
       "version_minor": 0
      },
      "text/html": [
       "<p>Failed to display Jupyter Widget of type <code>Box</code>.</p>\n",
       "<p>\n",
       "  If you're reading this message in the Jupyter Notebook or JupyterLab Notebook, it may mean\n",
       "  that the widgets JavaScript is still loading. If this message persists, it\n",
       "  likely means that the widgets JavaScript library is either not installed or\n",
       "  not enabled. See the <a href=\"https://ipywidgets.readthedocs.io/en/stable/user_install.html\">Jupyter\n",
       "  Widgets Documentation</a> for setup instructions.\n",
       "</p>\n",
       "<p>\n",
       "  If you're reading this message in another frontend (for example, a static\n",
       "  rendering on GitHub or <a href=\"https://nbviewer.jupyter.org/\">NBViewer</a>),\n",
       "  it may mean that your frontend doesn't currently support widgets.\n",
       "</p>\n"
      ],
      "text/plain": [
       "Box(children=(Box(children=(Dropdown(description=u'Inputfile', options=('Exercise1.in', 'Exercise1b.in', 'TrainingNew.in', 'co_budget.in', 'co_budget1.in', 'co_methane.in', 'co_simualtion.in', 'fossil.in', 'fossil2.in', 'fossil3.in', 'inter1.in', 'inter2.in', 'inter3.in', 'inter4.in', 'inter_nokonv1.in', 'inter_nokonv2.in', 'japan.in', 'mcf.in', 'mcf_new.in', 'mcf_newest.in', 'point.in', 'pointt.in', 'radon_konv1.in', 'radon_konv2.in', 'radon_nokonv1.in', 'radon_nokonv2.in', 'test4.in'), value='Exercise1.in'), Button(description=u'Run Model', style=ButtonStyle()), ToggleButton(value=False, description=u'Make Plots'), ToggleButton(value=False, description=u'Overplot')), layout=Layout(display=u'flex', flex_flow=u'row', justify_content=u'space-between')), Box(children=(SelectMultiple(description=u'Output', index=(0,), options=('xx',), value=('xx',)), SelectMultiple(index=(0,), options=('no station',), value=('no station',)), SelectMultiple(layout=Layout(visibility=u'hidden'), options=('no station',), value=())), layout=Layout(display=u'flex', flex_flow=u'row', justify_content=u'space-between')), Box(children=(Label(value=u'conversion'), ToggleButtons(options=('mol/mol', 'ppm', 'ppb', 'ppt'), value='mol/mol')), layout=Layout(display=u'flex', flex_flow=u'row', justify_content=u'space-between')), Box(children=(Label(value=u'# levels', layout=Layout(visibility=u'hidden')), IntSlider(value=10, layout=Layout(visibility=u'hidden'), max=30, min=5), Checkbox(value=True, description=u'grid'), Checkbox(value=True, description=u'automatic')), layout=Layout(display=u'flex', flex_flow=u'row', justify_content=u'space-between')), Box(children=(Label(value=u'yMin, yMax', layout=Layout(visibility=u'hidden')), BoundedFloatText(value=0.0, description=u'Min', layout=Layout(visibility=u'hidden'), max=10000000000.0), BoundedFloatText(value=10000000000.0, description=u'Max', layout=Layout(visibility=u'hidden'), max=100000000000.0)), layout=Layout(display=u'flex', flex_flow=u'row', justify_content=u'space-between')), Box(children=(Label(value=u'xMin, xMax', layout=Layout(visibility=u'hidden')), BoundedFloatText(value=1900.0849315068492, description=u'Tmin', layout=Layout(visibility=u'hidden'), max=2020.0849315068492), BoundedFloatText(value=2020.0849315068492, description=u'Tmax', layout=Layout(visibility=u'hidden'), max=20200.84931506849, min=1900.0849315068492)), layout=Layout(display=u'flex', flex_flow=u'row', justify_content=u'space-between'))), layout=Layout(align_items=u'stretch', border=u'solid 2px', display=u'flex', flex_flow=u'column', width=u'100%'))"
      ]
     },
     "metadata": {},
     "output_type": "display_data"
    },
    {
     "data": {
      "application/vnd.jupyter.widget-view+json": {
       "model_id": "a69ce4a5d93941918b7a13e5f1d3d4fb",
       "version_major": 2,
       "version_minor": 0
      },
      "text/html": [
       "<p>Failed to display Jupyter Widget of type <code>interactive</code>.</p>\n",
       "<p>\n",
       "  If you're reading this message in the Jupyter Notebook or JupyterLab Notebook, it may mean\n",
       "  that the widgets JavaScript is still loading. If this message persists, it\n",
       "  likely means that the widgets JavaScript library is either not installed or\n",
       "  not enabled. See the <a href=\"https://ipywidgets.readthedocs.io/en/stable/user_install.html\">Jupyter\n",
       "  Widgets Documentation</a> for setup instructions.\n",
       "</p>\n",
       "<p>\n",
       "  If you're reading this message in another frontend (for example, a static\n",
       "  rendering on GitHub or <a href=\"https://nbviewer.jupyter.org/\">NBViewer</a>),\n",
       "  it may mean that your frontend doesn't currently support widgets.\n",
       "</p>\n"
      ],
      "text/plain": [
       "interactive(children=(ToggleButton(value=False, description=u'Make Plots'), Output()), _dom_classes=('widget-interact',))"
      ]
     },
     "metadata": {},
     "output_type": "display_data"
    },
    {
     "name": "stdout",
     "output_type": "stream",
     "text": [
      "itransport 2490370\n",
      " HDF read asland returns:           0\n",
      "  Pressure (hPa) - Height (m)\n",
      "    1000.0        0.\n",
      "     900.0      909.\n",
      "     800.0     1904.\n",
      "     700.0     3005.\n",
      "     600.0     4241.\n",
      "     500.0     5658.\n",
      "     400.0     7326.\n",
      "     300.0     9375.\n",
      "     200.0    12079.\n",
      "     100.0    16245.\n",
      " Simulation year:        1987\n",
      " Simulation year:        1988\n",
      " Simulation year:        1989\n",
      "\n"
     ]
    }
   ],
   "source": [
    "# MOGUNTIA run widgets:\n",
    "from plot_moguntia import *\n",
    "pm2 = plot_moguntia()"
   ]
  },
  {
   "cell_type": "code",
   "execution_count": null,
   "metadata": {},
   "outputs": [],
   "source": []
  }
 ],
 "metadata": {
  "kernelspec": {
   "display_name": "Python 2",
   "language": "python",
   "name": "python2"
  },
  "language_info": {
   "codemirror_mode": {
    "name": "ipython",
    "version": 2
   },
   "file_extension": ".py",
   "mimetype": "text/x-python",
   "name": "python",
   "nbconvert_exporter": "python",
   "pygments_lexer": "ipython2",
   "version": "2.7.15"
  }
 },
 "nbformat": 4,
 "nbformat_minor": 1
}
