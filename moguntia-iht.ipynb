{
 "cells": [
  {
   "cell_type": "markdown",
   "metadata": {},
   "source": [
    "\n",
    "# MOGUNTIA exercises\n",
    "\n",
    "---------\n",
    "<FONT COLOR=red>\n",
    "\n",
    "# Interhemispheric transport\n",
    "\n",
    "<FONT COLOR=black> \n",
    "\n",
    "\n",
    "----------\n",
    "\n",
    "\n",
    "\n",
    "##### Maarten Krol, September 2019\n",
    "##### version 2.1\n",
    "\n",
    "### Goal\n",
    "\n",
    "> * Investigate longer time-scales in the model. \n",
    "> * What is the exchange time between the northern and southern hemispheres? \n",
    "> * How are these time scales defined? \n",
    "> * What is the influence of the tracer lifetime and convection?\n",
    "\n",
    "### Introduction\n",
    "\n",
    "The intertropical convergence zone (ITCZ) forms a duct between the Northern Hemisphere (NH) and the Southern Hemisphere (SH). Due to convergence near the equator, deep convection occurs. Air from the NH encounters air from the SH and airmasses are lifted (this process is enhanced by condensation).\n",
    "\n",
    "Chemically speaking, differences exist in NH air and SH air. Because most emissions occur in the NH, concentrations of (longer lived) pollutants are normally higher in the NH.\n",
    "\n",
    "Mixing of NH and SH air masses occurs relatively slowly because of the presence of the ITCZ. In the exercises described here, several methods will be investigated to determine the mixing time scale between the NH and SH.\n",
    "\n",
    "First, we will release a tracer over land during 3 months. This will create an interhemispheric gradient. Then, the decaying interhemispheric concentration gradient will be used to determine a characteristic time scale.\n",
    "\n",
    "> * Run MOGUNTIA with the input file inter1.in (no output generated)\n",
    "> * Directly run MOGUNTIA with the input file inter2.in\n",
    "\n",
    ">> If you are not yet familiar with running MOGUNTIA, please complete **moguntia-training** first\n",
    "\n"
   ]
  },
  {
   "cell_type": "code",
   "execution_count": 2,
   "metadata": {},
   "outputs": [
    {
     "name": "stdout",
     "output_type": "stream",
     "text": [
      "Populating the interactive namespace from numpy and matplotlib\n"
     ]
    },
    {
     "name": "stderr",
     "output_type": "stream",
     "text": [
      "/opt/conda/envs/python2/lib/python2.7/site-packages/IPython/core/magics/pylab.py:161: UserWarning: pylab import has clobbered these variables: ['Text', 'Widget', 'linalg', 'Button', 'random', 'datetime', 'interactive', 'power', 'info', 'fft', 'time']\n",
      "`%matplotlib` prevents importing * from pylab and numpy\n",
      "  \"\\n`%matplotlib` prevents importing * from pylab and numpy\"\n"
     ]
    },
    {
     "data": {
      "application/vnd.jupyter.widget-view+json": {
       "model_id": "548b7cf33bba4ad29c4a9a4a41c73cbb",
       "version_major": 2,
       "version_minor": 0
      },
      "text/html": [
       "<p>Failed to display Jupyter Widget of type <code>interactive</code>.</p>\n",
       "<p>\n",
       "  If you're reading this message in the Jupyter Notebook or JupyterLab Notebook, it may mean\n",
       "  that the widgets JavaScript is still loading. If this message persists, it\n",
       "  likely means that the widgets JavaScript library is either not installed or\n",
       "  not enabled. See the <a href=\"https://ipywidgets.readthedocs.io/en/stable/user_install.html\">Jupyter\n",
       "  Widgets Documentation</a> for setup instructions.\n",
       "</p>\n",
       "<p>\n",
       "  If you're reading this message in another frontend (for example, a static\n",
       "  rendering on GitHub or <a href=\"https://nbviewer.jupyter.org/\">NBViewer</a>),\n",
       "  it may mean that your frontend doesn't currently support widgets.\n",
       "</p>\n"
      ],
      "text/plain": [
       "interactive(children=(Dropdown(description=u'Inputfile', options=('Exercise1.in', 'Exercise1b.in', 'TrainingNew.in', 'co1.in', 'co2.in', 'co2_sim.in', 'co_budget.in', 'co_budget1.in', 'co_budget2.in', 'co_methane.in', 'co_methane1.in', 'co_methane2.in', 'co_simualtion.in', 'fossil.in', 'fossil2.in', 'fossil3.in', 'inter1.in', 'inter2.in', 'inter3.in', 'inter4.in', 'inter_nokonv1.in', 'inter_nokonv2.in', 'japan.in', 'mcf.in', 'mcf_new.in', 'mcf_newest.in', 'point.in', 'pointt.in', 'radon_konv1.in', 'radon_konv2.in', 'radon_nokonv1.in', 'radon_nokonv2.in', 'test4.in'), value='Exercise1.in'), ToggleButton(value=False, description=u'Run Model'), SelectMultiple(description=u'Output', index=(0,), options=('xx',), value=('xx',)), SelectMultiple(description=u'stat', index=(0,), options=('no station',), value=('no station',)), SelectMultiple(description=u'op', layout=Layout(visibility=u'hidden'), options=('no station',), value=()), ToggleButtons(description=u'conversion', options=('mol/mol', 'ppm', 'ppb', 'ppt'), value='mol/mol'), ToggleButton(value=False, description=u'overplot'), Checkbox(value=True, description=u'grid'), Checkbox(value=True, description=u'automatic'), ToggleButton(value=False, description=u'Make Plots'), Output()), _dom_classes=('widget-interact',))"
      ]
     },
     "metadata": {},
     "output_type": "display_data"
    }
   ],
   "source": [
    "# MOGUNTIA run widgets:\n",
    "%pylab inline\n",
    "from plot_moguntia_new import *\n",
    "pm = plot_moguntia_new()"
   ]
  },
  {
   "cell_type": "markdown",
   "metadata": {},
   "source": [
    "### Exercise: Interhemispheric transport\n",
    "\n",
    "Use the analysis widget  and have a look at the zonally averaged concentration plots\n",
    "\n",
    ">  Q1: Where does the interhemispheric transport takes place in the model, in the upper or lower troposphere?"
   ]
  },
  {
   "cell_type": "markdown",
   "metadata": {},
   "source": [
    "### Analyze the output\n",
    "\n",
    "First, have a look at the zonally averaged concentration plots.\n",
    "> * Where does the interhemispheric transport takes place in the model, in the upper or lower troposphere?\n",
    "\n",
    "Next, analyze the station output. Remember that the output is requested at 500 hPa.\n",
    "> * Can you understand the strange peak at the 25S station?\n",
    "\n",
    "From the decaying gradient, a time scale can be derived, using:\n",
    "\n",
    "> d N / dt = - d S / dt = -(Na-Sa)/tau\n",
    "\n",
    "> d (N-S) / dt = d N/ dt - d S/ dt = -2 (Na-Sa)/tau\n",
    "\n",
    "> tau = -2 (Na-Sa)/ (d (N-S) /dt)\n",
    "\n",
    "> N : mean concentration NH\n",
    "\n",
    "> S: mean concentration SH\n",
    "\n",
    "> (N-S): concentration gradient\n",
    "\n",
    "> tau: time scale for interhemispheric transport\n",
    "\n",
    "> (Na-Sa): mean concentration gradient, averaged over the simulation period (e.g. one year).\n"
   ]
  },
  {
   "cell_type": "markdown",
   "metadata": {},
   "source": [
    "### Exercise: Determine tau\n",
    "\n",
    "Use the analysis widget and have a look at the zonally averaged concentration plots\n",
    "\n",
    ">  Q2: Use the 45N and 45S output to determine tau.\n",
    "\n",
    ">  Q3: Repeat the same for 65N / 65S and 25N / 25S - are the results consistent?"
   ]
  },
  {
   "cell_type": "code",
   "execution_count": 1,
   "metadata": {},
   "outputs": [
    {
     "name": "stdout",
     "output_type": "stream",
     "text": [
      "Populating the interactive namespace from numpy and matplotlib\n"
     ]
    },
    {
     "data": {
      "application/vnd.jupyter.widget-view+json": {
       "model_id": "747aea2c15b04919a66dcb40c9875f79",
       "version_major": 2,
       "version_minor": 0
      },
      "text/plain": [
       "interactive(children=(Dropdown(description='Inputfile', options=('Exercise1.in', 'Exercise1b.in', 'TrainingNew…"
      ]
     },
     "metadata": {},
     "output_type": "display_data"
    }
   ],
   "source": [
    "# MOGUNTIA run widgets:\n",
    "%pylab inline\n",
    "from plot_moguntia_new import *\n",
    "pm2 = plot_moguntia_new()"
   ]
  }
 ],
 "metadata": {
  "kernelspec": {
   "display_name": "Python 2",
   "language": "python",
   "name": "python2"
  },
  "language_info": {
   "codemirror_mode": {
    "name": "ipython",
    "version": 2
   },
   "file_extension": ".py",
   "mimetype": "text/x-python",
   "name": "python",
   "nbconvert_exporter": "python",
   "pygments_lexer": "ipython2",
   "version": "2.7.15"
  }
 },
 "nbformat": 4,
 "nbformat_minor": 1
}
