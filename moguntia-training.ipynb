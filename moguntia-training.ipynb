{
 "cells": [
  {
   "cell_type": "markdown",
   "metadata": {},
   "source": [
    "\n",
    "# MOGUNTIA exercises\n",
    "\n",
    "---------\n",
    "\n",
    "<FONT color=red>\n",
    "\n",
    "## A source over the ocean\n",
    "\n",
    "<FONT color=black>\n",
    "\n",
    "----------\n",
    "\n",
    "\n",
    "\n",
    "##### Maarten Krol, September 2019\n",
    "##### version 2.1\n",
    "\n",
    "### Goal:\n",
    "Learn how to:\n",
    "> * Use MOGUNTIA, \n",
    "> * Manipulate input files\n",
    "> * Run the model\n",
    "> * Plot the output\n",
    "\n",
    "### Introduction\n",
    "\n",
    "To learn using MOGUNTIA, we start with a simple simulation. A tracer will be emitted over the oceans. The lifetime of the tracer will be set to one year, and its global distribution will be analyzed. Also, it will be analyzed how fast a steady state distribution is obtained. This information is supplied to **MOGUNTIA** by an input file, that can be modified for your own needs.\n",
    "\n",
    "> General information on the **MOGUNTIA** model, and how to define its input (i.e. tell the model what to simulate, what output to produce, etc.) can be found <a href=\"http://www.staff.science.uu.nl/~krol0101/moguntia/MANUAL/moguntia.doc/\">here</a>. Important: Whenever a line in the input file starts with a **blank**, the line in simply skipped. This allows easy on-off switching of commands\n",
    "\n",
    "> * Use *File* in the menu above to open the precooked input file **Exercise1.in**\n",
    "> * Try to understand its contents\n",
    "\n",
    "To run the moguntia model with this input file, do the following:\n",
    "\n",
    ">  * select the cell below, and press **Shift-Enter**. This will connect to the so-called ***Ipython Kernel*** which sets-up interactive windows.\n",
    "\n",
    "        \n",
    ">  * Select the input file **Exercise1.in**\n",
    ">  * Press the button **Run model**\n",
    "\n",
    "This will now run the **MOGUNTIA** program. This may take a while. When the simulation is finished, the output will appear as text, or the produced output files will appear in the block **Output\".\n",
    "\n",
    ">>  Use is made of the **Python** language. **Python** can import functionality, provides plotting routines, exchange with the operating system, etc. The command below: \"pm = plot_moguntia_new()\", starts a model instance, and the variable **pm** carries the necessary information to the plotting program. You can analyse two runs in two seperate instances like\n",
    "        \n",
    "                pm = plot_moguntia_new()\n",
    "                \n",
    ">> and in another Notebook cell:\n",
    " \n",
    "                pm2 = plot_moguntia_new()\n",
    "\n"
   ]
  },
  {
   "cell_type": "code",
   "execution_count": 1,
   "metadata": {
    "scrolled": false
   },
   "outputs": [
    {
     "name": "stdout",
     "output_type": "stream",
     "text": [
      "Populating the interactive namespace from numpy and matplotlib\n"
     ]
    },
    {
     "data": {
      "application/vnd.jupyter.widget-view+json": {
       "model_id": "fd4dc37f796d4df1ae29bd8808719ea5",
       "version_major": 2,
       "version_minor": 0
      },
      "text/html": [
       "<p>Failed to display Jupyter Widget of type <code>interactive</code>.</p>\n",
       "<p>\n",
       "  If you're reading this message in the Jupyter Notebook or JupyterLab Notebook, it may mean\n",
       "  that the widgets JavaScript is still loading. If this message persists, it\n",
       "  likely means that the widgets JavaScript library is either not installed or\n",
       "  not enabled. See the <a href=\"https://ipywidgets.readthedocs.io/en/stable/user_install.html\">Jupyter\n",
       "  Widgets Documentation</a> for setup instructions.\n",
       "</p>\n",
       "<p>\n",
       "  If you're reading this message in another frontend (for example, a static\n",
       "  rendering on GitHub or <a href=\"https://nbviewer.jupyter.org/\">NBViewer</a>),\n",
       "  it may mean that your frontend doesn't currently support widgets.\n",
       "</p>\n"
      ],
      "text/plain": [
       "interactive(children=(Dropdown(description=u'Inputfile', options=('Exercise1.in', 'Exercise1b.in', 'TrainingNew.in', 'co1.in', 'co2.in', 'co2_sim.in', 'co_budget.in', 'co_budget1.in', 'co_budget2.in', 'co_methane.in', 'co_methane1.in', 'co_methane2.in', 'co_simualtion.in', 'fossil.in', 'fossil2.in', 'fossil3.in', 'inter1.in', 'inter2.in', 'inter3.in', 'inter4.in', 'inter_nokonv1.in', 'inter_nokonv2.in', 'japan.in', 'mcf.in', 'mcf_new.in', 'mcf_newest.in', 'point.in', 'pointt.in', 'radon_konv1.in', 'radon_konv2.in', 'radon_nokonv1.in', 'radon_nokonv2.in', 'test4.in'), value='Exercise1.in'), ToggleButton(value=False, description=u'Run Model'), SelectMultiple(description=u'Output', index=(0,), options=('xx',), value=('xx',)), SelectMultiple(description=u'stat', index=(0,), options=('no station',), value=('no station',)), SelectMultiple(description=u'op', layout=Layout(visibility=u'hidden'), options=('no station',), value=()), ToggleButtons(description=u'conversion', options=('mol/mol', 'ppm', 'ppb', 'ppt'), value='mol/mol'), ToggleButton(value=False, description=u'overplot'), Checkbox(value=True, description=u'grid'), Checkbox(value=True, description=u'automatic'), ToggleButton(value=False, description=u'Make Plots'), Output()), _dom_classes=('widget-interact',))"
      ]
     },
     "metadata": {},
     "output_type": "display_data"
    }
   ],
   "source": [
    "%pylab inline\n",
    "from plot_moguntia_new import *\n",
    "pm2 = plot_moguntia_new()"
   ]
  },
  {
   "cell_type": "markdown",
   "metadata": {},
   "source": [
    "### Analyze the output\n",
    "\n",
    "The next step is to analyze the output of the simulation. \n",
    "\n",
    "\n",
    "> * First plot the station output by selecting output file **ex1.stations** (this is done by default)\n",
    "> * Select one or more stations from the list **Stat** (use shift and control keys to select multiple files if desired)\n",
    "> * Press the button **Make Plots**. A plot is created. When needed, these plots can be copied to e.g. a word-document\n",
    "\n",
    "The emission strength defined in the input file leads to very small mixing ratios in the atmosphere. For presenting the results, conversion to other units can be performed easily.\n",
    "\n",
    "> * Convert the concentrations from **mol/mol** to parts per trillion (**ppt**) and re-plot\n",
    "> * Test the use of the tick-boxes **grid** and **automatic**\n",
    "\n",
    "The button **overplot** is of no use here. It is only useful when atmospheric measurements are available.\n",
    "\n",
    "During the simulation other output was requested by the following lines in **Exercise1.in**:\n",
    "\n",
    "        OUTPUT MONTHLY LATLON 1000HPA\n",
    "        OUTPUT MONTHLY LATLON 500HPA\n",
    "        OUTPUT MONTHLY ZONAL_AVERAGE\n",
    "\n",
    "These lines generated files with names **ex1ll.yyyy_mm**, and **ex1za.yyyy_mm** with **yyyy** the year, and **mm** the month. Latitude-longitude output may be requested at various pressure levels.\n",
    "\n",
    "> * Select several input files, and press **Make Plots**\n",
    ">>   Note that the plotting of many latitude-longitude figures may take a considerable amount of time\n",
    "> * Give all the plots a similar concentration range by deselecting **automatic**\n",
    ">> With contour plots, you can manupulate the minimum, maximum, and the number of contour levels\n",
    "> * Can you roughly explain the observed tracer distribution?"
   ]
  },
  {
   "cell_type": "markdown",
   "metadata": {},
   "source": [
    "### Exercise: The lifetime concept\n",
    "\n",
    "From the output at e.g the stations it is clear that after two years of simulation the tracer distribution is still not in steady state. \n",
    "> * Create a new input file in which the lifetime of the tracer is changed to a value that ensures steady state after 2 years of simulation.\n",
    "> * Run for at least 3 years to check if steady state in reached.\n",
    "> * Check steady state by plotting the station output\n",
    "> * Check steady state also by comparing the zonally averaged tracer distribution of two subsequent years with fixed contour intervals (e.g. decemebr 1988 and december 1989)\n",
    "> * Make an educated guess of the global mean concentration (in **ppt**)\n",
    "> * From this guess, determine the emission by using the (global) steady state formula:\n",
    "\n",
    "\\begin{eqnarray}\n",
    "\\frac{dC}{dt} = 0 = E - L.C \\\\\n",
    "{\\rm with} \\\\\n",
    "\\end{eqnarray}\n",
    "\n",
    "> E = global mean emission (molecules.cm$^{-2}$.s$^{-1}$) \n",
    "\n",
    "> L = loss rate (s$^{-1}$)\n",
    "\n",
    "> C = Concentration converted to molecules.cm$^{-2}$ \n",
    "\n",
    "> * Check if the global mean concentration corresponds to the global mean emission rate in the input file (10$^6$ molecules.cm$^{-2}$.s$^{-1}$ over sea, and a sea fraction of $\\frac{2}{3}$)\n",
    ">> Hint: the model air pressure is 900 hPa (1000-100 hPa is the model domain). Convert 900 hPa to the number of air molecules per square centimeter: \n",
    "\n",
    "\\begin{equation}\n",
    "1\\ mol = 6.022.10^{23}\\ molecules = 28.5\\  g\n",
    "\\end{equation}\n",
    "\\begin{equation}\n",
    "1\\ Pa = 1 \\frac{N}{m^2} = 1/9.8 \\frac{kg}{m^2} = \\frac{0.1}{9.8}\\ \\frac{g}{{cm}^2}\n",
    "\\end{equation}\n",
    "\n",
    "\n",
    ">> 'number of tracer molecules' = 'mixing ratio' times 'number of air molecules'.\n",
    "\n",
    "\n"
   ]
  },
  {
   "cell_type": "code",
   "execution_count": 1,
   "metadata": {
    "scrolled": false
   },
   "outputs": [
    {
     "name": "stdout",
     "output_type": "stream",
     "text": [
      "Populating the interactive namespace from numpy and matplotlib\n"
     ]
    },
    {
     "data": {
      "application/vnd.jupyter.widget-view+json": {
       "model_id": "01a645f72cc144d0bb41e7d7d9e2ac96",
       "version_major": 2,
       "version_minor": 0
      },
      "text/html": [
       "<p>Failed to display Jupyter Widget of type <code>interactive</code>.</p>\n",
       "<p>\n",
       "  If you're reading this message in the Jupyter Notebook or JupyterLab Notebook, it may mean\n",
       "  that the widgets JavaScript is still loading. If this message persists, it\n",
       "  likely means that the widgets JavaScript library is either not installed or\n",
       "  not enabled. See the <a href=\"https://ipywidgets.readthedocs.io/en/stable/user_install.html\">Jupyter\n",
       "  Widgets Documentation</a> for setup instructions.\n",
       "</p>\n",
       "<p>\n",
       "  If you're reading this message in another frontend (for example, a static\n",
       "  rendering on GitHub or <a href=\"https://nbviewer.jupyter.org/\">NBViewer</a>),\n",
       "  it may mean that your frontend doesn't currently support widgets.\n",
       "</p>\n"
      ],
      "text/plain": [
       "interactive(children=(Dropdown(description=u'Inputfile', options=('Exercise1.in', 'Exercise1b.in', 'TrainingNew.in', 'co1.in', 'co2.in', 'co2_sim.in', 'co_budget.in', 'co_budget1.in', 'co_budget2.in', 'co_methane.in', 'co_methane1.in', 'co_methane2.in', 'co_simualtion.in', 'fossil.in', 'fossil2.in', 'fossil3.in', 'inter1.in', 'inter2.in', 'inter3.in', 'inter4.in', 'inter_nokonv1.in', 'inter_nokonv2.in', 'japan.in', 'mcf.in', 'mcf_new.in', 'mcf_newest.in', 'point.in', 'pointt.in', 'radon_konv1.in', 'radon_konv2.in', 'radon_nokonv1.in', 'radon_nokonv2.in', 'test4.in'), value='Exercise1.in'), ToggleButton(value=False, description=u'Run Model'), SelectMultiple(description=u'Output', index=(0,), options=('xx',), value=('xx',)), SelectMultiple(description=u'stat', index=(0,), options=('no station',), value=('no station',)), SelectMultiple(description=u'op', layout=Layout(visibility=u'hidden'), options=('no station',), value=()), ToggleButtons(description=u'conversion', options=('mol/mol', 'ppm', 'ppb', 'ppt'), value='mol/mol'), ToggleButton(value=False, description=u'overplot'), Checkbox(value=True, description=u'grid'), Checkbox(value=True, description=u'automatic'), ToggleButton(value=False, description=u'Make Plots'), Output()), _dom_classes=('widget-interact',))"
      ]
     },
     "metadata": {},
     "output_type": "display_data"
    }
   ],
   "source": [
    "%pylab inline\n",
    "from plot_moguntia_new import *\n",
    "pm2 = plot_moguntia_new()"
   ]
  },
  {
   "cell_type": "markdown",
   "metadata": {},
   "source": [
    "To investigate the wind filed used by MOGUNTIA, open now __wind.ipynb__."
   ]
  },
  {
   "cell_type": "markdown",
   "metadata": {},
   "source": [
    "### End of exercise \"A source over the ocean\""
   ]
  }
 ],
 "metadata": {
  "kernelspec": {
   "display_name": "Python 2",
   "language": "python",
   "name": "python2"
  },
  "language_info": {
   "codemirror_mode": {
    "name": "ipython",
    "version": 2
   },
   "file_extension": ".py",
   "mimetype": "text/x-python",
   "name": "python",
   "nbconvert_exporter": "python",
   "pygments_lexer": "ipython2",
   "version": "2.7.15"
  },
  "widgets": {
   "state": {
    "14701de89c284a0fa2393ab98173eb4b": {
     "views": []
    },
    "2ff48d3c9b634778972075881206bb41": {
     "views": []
    },
    "4177b24371d74a6ca61c0ce7293933bc": {
     "views": []
    },
    "4cc800752ebc4161b82d26ed7a5ed83d": {
     "views": []
    },
    "4d96b55c6b0747d9a58d8b20df91abbc": {
     "views": []
    },
    "65153a1b715a4c5581cb859c7d9e53a6": {
     "views": []
    },
    "6c05f672b9bb414991c7bb791bcf8123": {
     "views": []
    },
    "730801488eaa4ff9803443e6653fe489": {
     "views": []
    },
    "8d889eccd0754ed68c2b839a8add5640": {
     "views": []
    },
    "933469f98cf54ae1909690812dfe2a01": {
     "views": []
    },
    "a76882e258fd4d49b08ef13a8c5f1726": {
     "views": []
    },
    "d64f65f562704f4b8c494f92da919fcf": {
     "views": [
      {
       "cell_index": 9
      }
     ]
    },
    "f31a637366e6464eae8ef4a972af4773": {
     "views": []
    },
    "ff4dda6a84a54f7c85fc0f45f2beb2e7": {
     "views": []
    }
   },
   "version": "1.1.2"
  }
 },
 "nbformat": 4,
 "nbformat_minor": 1
}
