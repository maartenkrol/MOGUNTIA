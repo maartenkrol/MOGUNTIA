{
 "cells": [
  {
   "cell_type": "markdown",
   "metadata": {},
   "source": [
    "\n",
    "# MOGUNTIA exercises\n",
    "\n",
    "---------\n",
    "<FONT COLOR=red>\n",
    "\n",
    "# Methyl Chloroform as tracer to constrain OH\n",
    "\n",
    "<FONT COLOR=black> \n",
    "\n",
    "\n",
    "----------\n",
    "\n",
    "\n",
    "\n",
    "##### Maarten Krol, September 2019\n",
    "##### version 2.1\n",
    "\n",
    "### Goal\n",
    "\n",
    "> * Simulate the mixing ratios of methyl-chloroform.\n",
    "> * Estimate the reaction constant between OH and methyl-chloroform. \n",
    "> * Determine how well methyl-chloroform constrains the OH level in the atmosphere. \n",
    "> * Explore more recent measurements. \n",
    "> * Discuss uncertainties.\n",
    "\n",
    "### Introduction\n",
    "\n",
    "The oxidizing capacity of the atmosphere is for a large part determined by the OH radical. This radical is produced as a result of ozone photolysis in the presence of water vapor:\n",
    "\\begin{eqnarray}\n",
    "{\\rm O_3 + h\\nu \\longrightarrow O(^1D) + O_2} \\\\\n",
    "{\\rm O(^1D) + H_2O \\longrightarrow 2 OH}\n",
    "\\end{eqnarray}\n",
    "\n",
    "On a global scale the most important sink for OH is its reaction with either CO or methane, relatively well-mixed gases that limit the lifetime of OH to 1-10 seconds. In the planetary boundary layer, however, non-methane hydrocarbons may be the dominant OH sink, in particular in polluted and forested areas.\n",
    "\n",
    "The lifetime of many trace gases, and most notably those of methane and CO, is determined by the reaction with OH. In order to understand the tropospheric trends and mixing ratios of these gases, knowledge of the tropospheric OH distribution and its temporal variation is therefore of vital importance. Figure 1 illustrates the central position of the OH radical in tropospheric chemistry.\n",
    "\n",
    "\n",
    "\n",
    "<figure>\n",
    "  <img src=\"c2cs35140d-f1.gif\", width=\"400\" height=\"200\">\n",
    "  <figcaption> <i>Figure 1: Central role of OH in tropospheric chemistry, from: J. R. Olson, J. H. Crawford, G. Chen, W. H. Brune, I. C. Faloona, D. Tan, H. Harder and M. Martinez, J. Geophys. Res., 2006, 111, D10301.\n",
    "</i></figcaption>\n",
    "</figure>\n",
    "\n",
    "\n",
    "Methods to measure OH in-situ in the troposphere are rapidly being developed and these measurements show that the OH concentration is highly variable in space and time. This is expected on a theoretical basis, since the OH production is mainly determined by ozone, water vapor, and UV-B radiation, which are extremely variable in the troposphere. For instance, the variability of UV-B is caused by the variable solar zenith angle, clouds, surface reflections, and the overhead ozone column.\n",
    "\n",
    "Since reaction with OH is the most important sink for methane, measurements of methane may be used to estimate the globally averaged OH concentration. This requires detailed knowledge of the methane sources. However, since methane is emitted by many anthropogenic and natural sources, estimates of the total source are rather uncertain.\n",
    "\n",
    "Methylchloroform (1,1,1 trichloroethane, CH$_3$CCl$_3$, hereafter called MCF) provides a better opportunity to constrain tropospheric OH concentrations. Sources of this compound are purely anthropogenic and it is claimed that the emissions are known with high accuracy. Most sources are located in the northern hemisphere, which results in a latitudinal gradient from north to south. Since the beginning of the 1990s the MCF mixing ratios in the troposphere are declining.\n",
    "\n",
    "In global three-dimensional tropospheric chemistry modeling it has become a common exercise to test the calculated OH fields by simulating the MCF mixing ratio at the so-called ALE/GAGE stations. Due to the uncertainties in the OH chemistry, rate constants, photolysis frequencies and the distribution of OH precursors and sinks, the accuracy of the calculated OH fields is limited. Therefore, some deviation between the measurements and the model results can be expected. It is estimated that a typical value of global mean OH is uncertain up-to about 25% due to kinetics imprecision. Figure 2 displays typical OH fields that are used in MOGUNTIA. Clearly, more OH is present on the summer hemisphere.\n",
    "\n",
    "<figure>\n",
    "  <img src=\"oh_jun.png\", width=\"400\" height=\"300\">\n",
    "  <img src=\"oh_dec.png\", width=\"400\" height=\"300\">\n",
    "  <figcaption> <i>Figure 2: Zonal average OH concentrations in June (upper) and December (lower).\n",
    ")</i></figcaption>\n",
    "</figure>\n",
    "\n",
    "\n",
    "In this exercise the following issues will be investigated:\n",
    "\n",
    "> * How well does the MOGUNTIA model simulate the MCF mixing ratio at the ALE/GAGE stations?\n",
    "> * How does MOGUNTIA constrain the MCF oxidation given by\n",
    "\\begin{eqnarray}\n",
    "{\\rm MCF + OH \\longrightarrow products} \\\\\n",
    "\\frac{\\rm dMCF}{\\rm dt} {\\rm = -k.OH.MCF = -L.MCF} \\\\\n",
    "\\end{eqnarray}\n",
    "\n",
    ">> The loss rate is given by the product of OH and a reaction constant k. This reaction constant is temperature dependent and is given by:\n",
    "\n",
    "\\begin{eqnarray}\n",
    "{\\rm k =\\  ??? \\ \\exp{(-1550/T)} \\ {cm}^3 {molecules}^{-1}s^{-1}} \\\\\n",
    "{\\rm 1 \\times 10^{-12} < \\ ??? < 1 \\times 10^{-11} {cm}^{3}{molecules}^{-1}s^{-1}}\n",
    "\\end{eqnarray}\n",
    "\n",
    "> with ??? to be determined and T in Kelvin?\n",
    ">> Remember that estimation of ??? is equivalent to an estimation of OH.\n",
    "\n",
    "> How consistent is the derived removal rate over longer periods?\n",
    "\n",
    ">> If you are not yet familiar with running MOGUNTIA, please complete **moguntia-training** first\n",
    "\n"
   ]
  },
  {
   "cell_type": "markdown",
   "metadata": {},
   "source": [
    "### Exercise 1: Determine the rate constant for MCF + OH\n",
    "\n",
    "ALE/GAGE measurements of MCF have been taken from 1978. Five measurement stations are located in the 'clean' remote regions, see figure 3. Whenever applicable, pollution events have been omitted from the data. \n",
    "\n",
    "1. Mace Head (53N, 11W)\n",
    "2. Oregon (45N, 124W)\n",
    "3. Barbados (13N, 59W)\n",
    "4. Samoa (14S, 171W)\n",
    "5. Tasmania (41S, 145E)\n",
    "\n",
    "\n",
    "<figure>\n",
    "  <img src=\"MCF_station.png\", width=\"600\" height=\"400\">\n",
    "  <figcaption> <i>Figure 3: Locations of the ALE/GAGE measurement stations</i></figcaption>\n",
    "</figure>\n",
    "\n",
    "As an example, Figure 4 shows the measured mixing ratios at Barbados from 1978 upto 1994. Using the **overplot** functionality, you can plot these measurements together with the simulations in the analysis below.\n",
    "<figure>\n",
    "  <img src=\"MCFBarbados.gif\", width=\"400\" height=\"400\">\n",
    "  <figcaption> <i>Figure 4: MCF measurements (in ppt) at Barbados. The asterisks in the following plots denote monthly averages. Bars denote standard deviations</i></figcaption>\n",
    "</figure>\n",
    "\n",
    "At times of strong emissions (e.g. the 1980s) NH stations show considerably more variability due to the proximity of the sources. \n",
    "\n",
    "In order to simulate the MCF mixing ratios, we need to run the model for a longer period. The lifetime of MCF is 4-5 years, so we need a spin up time of at least 4 years. The model is initialized by concentrations of 40 ppt (parts per trillion) in 1975 and is run from then. First we set the reaction rate to\n",
    "\n",
    "\\begin{equation}\n",
    "{\\rm k = 5\\times 10^{-12}\\exp{(-1550/T)}\\ {cm}^3{molecules}^{-1}s^{-1}}\n",
    "\\end{equation}\n",
    "\n",
    "We will investigate if this value is reasonable. The input file **mcf.in** requests a 19 year MOGUNTIA simulation and specifies the emissions (see **EMISSION DISTRIBUTION**) and chemical destruction by OH with the rate stated before. See figure 5 for the emission distribution that is applied in MOGUNTIA.\n",
    "\n",
    "<figure>\n",
    "  <img src=\"mcf.png\", width=\"400\" height=\"300\">\n",
    "  <figcaption> <i>Figure 5: Distribution of the MCF emissions that is used in the simulations</i></figcaption>\n",
    "</figure>\n",
    "\n",
    "> Open the input file **mcf.in** and try to understand its contents\n",
    "> Run MOGUNTIA by selecting the cell below and pressing **Shift-Enter**. Select the input file **mcf.in** and press **Run model**\n",
    ">> The simulation will take about 30 seconds\n",
    "\n",
    ">> Typically, concentrations of MCF are given in parts per trillion (ppt)\n",
    "\n",
    "Complete the following assignments:\n",
    "\n",
    ">  Q1: Discuss the simulated seasonal cycle\n",
    "\n",
    ">  Q2: Discuss differences between the stations, in terms of variability and seasonal cycle\n",
    "\n",
    ">  Q3: Discuss the latitudinal gradient\n",
    "\n",
    ">  Q4: Use overplot. To improve the match with observations, should the rate be higher or lower?\n",
    "\n",
    "Now, the rate k in **mcf.in** should be adjusted. Make a guess what value to use and rerun MOGUNTIA.\n",
    "\n",
    ">  Q5: By comparing simulations to atmospheric observations at several stations, what is the \"best\" value of **k**?\n",
    "\n",
    ">  Q6: Estimate the uncertainty in the rate constant. This uncertainty can also be interpreted as uncertainty in the OH fields. Is MCF a good tracer to constrain the OH fields (see introduction)?\n"
   ]
  },
  {
   "cell_type": "code",
   "execution_count": 4,
   "metadata": {},
   "outputs": [
    {
     "data": {
      "application/vnd.jupyter.widget-view+json": {
       "model_id": "1cd7cb08423f47e4af460cd9f1882a35",
       "version_major": 2,
       "version_minor": 0
      },
      "text/html": [
       "<p>Failed to display Jupyter Widget of type <code>Box</code>.</p>\n",
       "<p>\n",
       "  If you're reading this message in the Jupyter Notebook or JupyterLab Notebook, it may mean\n",
       "  that the widgets JavaScript is still loading. If this message persists, it\n",
       "  likely means that the widgets JavaScript library is either not installed or\n",
       "  not enabled. See the <a href=\"https://ipywidgets.readthedocs.io/en/stable/user_install.html\">Jupyter\n",
       "  Widgets Documentation</a> for setup instructions.\n",
       "</p>\n",
       "<p>\n",
       "  If you're reading this message in another frontend (for example, a static\n",
       "  rendering on GitHub or <a href=\"https://nbviewer.jupyter.org/\">NBViewer</a>),\n",
       "  it may mean that your frontend doesn't currently support widgets.\n",
       "</p>\n"
      ],
      "text/plain": [
       "Box(children=(Box(children=(Dropdown(description=u'Inputfile', options=('Exercise1.in', 'Exercise1b.in', 'TrainingNew.in', 'co_budget.in', 'co_budget1.in', 'co_methane.in', 'co_simualtion.in', 'fossil.in', 'fossil2.in', 'fossil3.in', 'inter1.in', 'inter2.in', 'inter3.in', 'inter4.in', 'inter_nokonv1.in', 'inter_nokonv2.in', 'japan.in', 'mcf.in', 'mcf_new.in', 'mcf_newest.in', 'point.in', 'pointt.in', 'radon_konv1.in', 'radon_konv2.in', 'radon_nokonv1.in', 'radon_nokonv2.in', 'test4.in'), value='Exercise1.in'), Button(description=u'Run Model', style=ButtonStyle()), ToggleButton(value=False, description=u'Make Plots'), ToggleButton(value=False, description=u'Overplot')), layout=Layout(display=u'flex', flex_flow=u'row', justify_content=u'space-between')), Box(children=(SelectMultiple(description=u'Output', index=(0,), options=('xx',), value=('xx',)), SelectMultiple(index=(0,), options=('no station',), value=('no station',)), SelectMultiple(layout=Layout(visibility=u'hidden'), options=('no station',), value=())), layout=Layout(display=u'flex', flex_flow=u'row', justify_content=u'space-between')), Box(children=(Label(value=u'conversion'), ToggleButtons(options=('mol/mol', 'ppm', 'ppb', 'ppt'), value='mol/mol')), layout=Layout(display=u'flex', flex_flow=u'row', justify_content=u'space-between')), Box(children=(Label(value=u'# levels', layout=Layout(visibility=u'hidden')), IntSlider(value=10, layout=Layout(visibility=u'hidden'), max=30, min=5), Checkbox(value=True, description=u'grid'), Checkbox(value=True, description=u'automatic')), layout=Layout(display=u'flex', flex_flow=u'row', justify_content=u'space-between')), Box(children=(Label(value=u'yMin, yMax', layout=Layout(visibility=u'hidden')), BoundedFloatText(value=0.0, description=u'Min', layout=Layout(visibility=u'hidden'), max=10000000000.0), BoundedFloatText(value=10000000000.0, description=u'Max', layout=Layout(visibility=u'hidden'), max=100000000000.0)), layout=Layout(display=u'flex', flex_flow=u'row', justify_content=u'space-between')), Box(children=(Label(value=u'xMin, xMax', layout=Layout(visibility=u'hidden')), BoundedFloatText(value=1900.0849315068492, description=u'Tmin', layout=Layout(visibility=u'hidden'), max=2020.0849315068492), BoundedFloatText(value=2020.0849315068492, description=u'Tmax', layout=Layout(visibility=u'hidden'), max=20200.84931506849, min=1900.0849315068492)), layout=Layout(display=u'flex', flex_flow=u'row', justify_content=u'space-between'))), layout=Layout(align_items=u'stretch', border=u'solid 2px', display=u'flex', flex_flow=u'column', width=u'100%'))"
      ]
     },
     "metadata": {},
     "output_type": "display_data"
    },
    {
     "data": {
      "application/vnd.jupyter.widget-view+json": {
       "model_id": "e6a649a2ec0e486ab177ee76026eb99e",
       "version_major": 2,
       "version_minor": 0
      },
      "text/html": [
       "<p>Failed to display Jupyter Widget of type <code>interactive</code>.</p>\n",
       "<p>\n",
       "  If you're reading this message in the Jupyter Notebook or JupyterLab Notebook, it may mean\n",
       "  that the widgets JavaScript is still loading. If this message persists, it\n",
       "  likely means that the widgets JavaScript library is either not installed or\n",
       "  not enabled. See the <a href=\"https://ipywidgets.readthedocs.io/en/stable/user_install.html\">Jupyter\n",
       "  Widgets Documentation</a> for setup instructions.\n",
       "</p>\n",
       "<p>\n",
       "  If you're reading this message in another frontend (for example, a static\n",
       "  rendering on GitHub or <a href=\"https://nbviewer.jupyter.org/\">NBViewer</a>),\n",
       "  it may mean that your frontend doesn't currently support widgets.\n",
       "</p>\n"
      ],
      "text/plain": [
       "interactive(children=(ToggleButton(value=False, description=u'Make Plots'), Output()), _dom_classes=('widget-interact',))"
      ]
     },
     "metadata": {},
     "output_type": "display_data"
    }
   ],
   "source": [
    "# MOGUNTIA run widgets:\n",
    "from plot_moguntia import *\n",
    "pm = plot_moguntia()"
   ]
  },
  {
   "cell_type": "markdown",
   "metadata": {},
   "source": [
    "### Exercise 2: Test with more recent measurements\n",
    "\n",
    "The simulation of MCF with MOGUNTIA seems to work reasonable for the period 1978-1994. A rigorous test for the estimated rate of removal (k.OH) is the application of this removal rate to more recent measurements. Is the removal rate estimated for 1978-1994 applicable for later years? In this period, we are observing a decaying burden of MCF, due to strongly reduced emissions. These emission reductions are caused by the implementation of the Montreal Protocol and its amendments. Interestingly, due to the quick reduction in emissions, the MCF burden in the atmosphere showed an exponential decay as illustrated in Figure 6.\n",
    "\n",
    "<figure>\n",
    "  <img src=\"mhd.png\", width=\"700\" height=\"400\">\n",
    "  <figcaption> <i>Figure 6: MCF measurements (in ppt or pmol/mol) at Mace Head (ireland). The green symbols are the measurements from the AGAGE network. Note that the variations of the concentrations during the month (error bars) are strongly reduced due to quickly dimished emissions</i></figcaption>\n",
    "</figure>\n",
    "\n",
    "\n",
    "In order to set up a simulation for the later period we need\n",
    "\n",
    "  1. extend the run period (this will take longer!)\n",
    "  2. The optimized rate constant from the previous exercise\n",
    "  3. Yearly emission estimates for the 1990-2009 period\n",
    "\n",
    "\n",
    "> * Open the MOGUNTIA input file **mcf_new.in**\n",
    "> * Fill in the reaction rate that is consistent with previous exercise (1975-1993)\n",
    "> * Perform the simulation using the saved file **mcf_new.in** (takes some time).\n",
    "\n",
    "Complete the following assignments:\n",
    "\n",
    "> Q7: What do you observe for the seasonal cycle?\n",
    "\n",
    "> Q8: What do you observe for the north-south gradient in MCF? Can you explain?\n",
    "\n",
    "> Q9: How do these features compare to the observations (use **overplot**)?\n",
    "\n",
    "> Q10: How do the end mixing ratios at the stations match with the observations?\n",
    "\n",
    "> Q11: What is your conclusion about the suitability of the rate constant derived for 1978-1994?\n",
    "\n",
    "> Q12: Did the global OH concentration change much from the 1980s to the recent period?\n",
    "\n",
    "\n"
   ]
  },
  {
   "cell_type": "code",
   "execution_count": 3,
   "metadata": {},
   "outputs": [
    {
     "data": {
      "application/vnd.jupyter.widget-view+json": {
       "model_id": "94572566fa4c4163944548bcada92f1d",
       "version_major": 2,
       "version_minor": 0
      },
      "text/html": [
       "<p>Failed to display Jupyter Widget of type <code>Box</code>.</p>\n",
       "<p>\n",
       "  If you're reading this message in the Jupyter Notebook or JupyterLab Notebook, it may mean\n",
       "  that the widgets JavaScript is still loading. If this message persists, it\n",
       "  likely means that the widgets JavaScript library is either not installed or\n",
       "  not enabled. See the <a href=\"https://ipywidgets.readthedocs.io/en/stable/user_install.html\">Jupyter\n",
       "  Widgets Documentation</a> for setup instructions.\n",
       "</p>\n",
       "<p>\n",
       "  If you're reading this message in another frontend (for example, a static\n",
       "  rendering on GitHub or <a href=\"https://nbviewer.jupyter.org/\">NBViewer</a>),\n",
       "  it may mean that your frontend doesn't currently support widgets.\n",
       "</p>\n"
      ],
      "text/plain": [
       "Box(children=(Box(children=(Dropdown(description=u'Inputfile', options=('Exercise1.in', 'Exercise1b.in', 'TrainingNew.in', 'co_budget.in', 'co_budget1.in', 'co_methane.in', 'co_simualtion.in', 'fossil.in', 'fossil2.in', 'fossil3.in', 'inter1.in', 'inter2.in', 'inter3.in', 'inter4.in', 'inter_nokonv1.in', 'inter_nokonv2.in', 'japan.in', 'mcf.in', 'mcf_new.in', 'mcf_newest.in', 'point.in', 'pointt.in', 'radon_konv1.in', 'radon_konv2.in', 'radon_nokonv1.in', 'radon_nokonv2.in', 'test4.in'), value='Exercise1.in'), Button(description=u'Run Model', style=ButtonStyle()), ToggleButton(value=False, description=u'Make Plots'), ToggleButton(value=False, description=u'Overplot')), layout=Layout(display=u'flex', flex_flow=u'row', justify_content=u'space-between')), Box(children=(SelectMultiple(description=u'Output', index=(0,), options=('xx',), value=('xx',)), SelectMultiple(index=(0,), options=('no station',), value=('no station',)), SelectMultiple(layout=Layout(visibility=u'hidden'), options=('no station',), value=())), layout=Layout(display=u'flex', flex_flow=u'row', justify_content=u'space-between')), Box(children=(Label(value=u'conversion'), ToggleButtons(options=('mol/mol', 'ppm', 'ppb', 'ppt'), value='mol/mol')), layout=Layout(display=u'flex', flex_flow=u'row', justify_content=u'space-between')), Box(children=(Label(value=u'# levels', layout=Layout(visibility=u'hidden')), IntSlider(value=10, layout=Layout(visibility=u'hidden'), max=30, min=5), Checkbox(value=True, description=u'grid'), Checkbox(value=True, description=u'automatic')), layout=Layout(display=u'flex', flex_flow=u'row', justify_content=u'space-between')), Box(children=(Label(value=u'yMin, yMax', layout=Layout(visibility=u'hidden')), BoundedFloatText(value=0.0, description=u'Min', layout=Layout(visibility=u'hidden'), max=10000000000.0), BoundedFloatText(value=10000000000.0, description=u'Max', layout=Layout(visibility=u'hidden'), max=100000000000.0)), layout=Layout(display=u'flex', flex_flow=u'row', justify_content=u'space-between')), Box(children=(Label(value=u'xMin, xMax', layout=Layout(visibility=u'hidden')), BoundedFloatText(value=1900.0849315068492, description=u'Tmin', layout=Layout(visibility=u'hidden'), max=2020.0849315068492), BoundedFloatText(value=2020.0849315068492, description=u'Tmax', layout=Layout(visibility=u'hidden'), max=20200.84931506849, min=1900.0849315068492)), layout=Layout(display=u'flex', flex_flow=u'row', justify_content=u'space-between'))), layout=Layout(align_items=u'stretch', border=u'solid 2px', display=u'flex', flex_flow=u'column', width=u'100%'))"
      ]
     },
     "metadata": {},
     "output_type": "display_data"
    },
    {
     "data": {
      "application/vnd.jupyter.widget-view+json": {
       "model_id": "67d1630354974691a704e617e4216631",
       "version_major": 2,
       "version_minor": 0
      },
      "text/html": [
       "<p>Failed to display Jupyter Widget of type <code>interactive</code>.</p>\n",
       "<p>\n",
       "  If you're reading this message in the Jupyter Notebook or JupyterLab Notebook, it may mean\n",
       "  that the widgets JavaScript is still loading. If this message persists, it\n",
       "  likely means that the widgets JavaScript library is either not installed or\n",
       "  not enabled. See the <a href=\"https://ipywidgets.readthedocs.io/en/stable/user_install.html\">Jupyter\n",
       "  Widgets Documentation</a> for setup instructions.\n",
       "</p>\n",
       "<p>\n",
       "  If you're reading this message in another frontend (for example, a static\n",
       "  rendering on GitHub or <a href=\"https://nbviewer.jupyter.org/\">NBViewer</a>),\n",
       "  it may mean that your frontend doesn't currently support widgets.\n",
       "</p>\n"
      ],
      "text/plain": [
       "interactive(children=(ToggleButton(value=False, description=u'Make Plots'), Output()), _dom_classes=('widget-interact',))"
      ]
     },
     "metadata": {},
     "output_type": "display_data"
    }
   ],
   "source": [
    "# MOGUNTIA run widgets:\n",
    "from plot_moguntia import *\n",
    "pm2 = plot_moguntia()"
   ]
  },
  {
   "cell_type": "markdown",
   "metadata": {},
   "source": [
    "### Exercise 3 (extra): Accounting for other MCF sinks\n",
    "\n",
    "In reality we have to account for the uptake of MCF by the oceans and removal in the stratosphere. In this extra exercise we will investigate the impact of these additional sinks on the simulations.\n",
    "\n",
    "The time scale for removal by the ocean is estimated as about 80 years. \n",
    "The time scale for stratospheric removal as 45 years. \n",
    "\n",
    "> * Calculate the overall time scale for the combined oceanic and stratospheric removal processes\n",
    "\n",
    "> * Adjust **LIFE_TIME** in the input file to account for these removal processes\n",
    "\n",
    "> * Redo the first two exercise and re-estimate the removal rate (k). Is this k lower or higher? Why?\n",
    "\n"
   ]
  },
  {
   "cell_type": "code",
   "execution_count": 2,
   "metadata": {},
   "outputs": [
    {
     "data": {
      "application/vnd.jupyter.widget-view+json": {
       "model_id": "32c62b351cfc41c7987997adcae2f122",
       "version_major": 2,
       "version_minor": 0
      },
      "text/html": [
       "<p>Failed to display Jupyter Widget of type <code>Box</code>.</p>\n",
       "<p>\n",
       "  If you're reading this message in the Jupyter Notebook or JupyterLab Notebook, it may mean\n",
       "  that the widgets JavaScript is still loading. If this message persists, it\n",
       "  likely means that the widgets JavaScript library is either not installed or\n",
       "  not enabled. See the <a href=\"https://ipywidgets.readthedocs.io/en/stable/user_install.html\">Jupyter\n",
       "  Widgets Documentation</a> for setup instructions.\n",
       "</p>\n",
       "<p>\n",
       "  If you're reading this message in another frontend (for example, a static\n",
       "  rendering on GitHub or <a href=\"https://nbviewer.jupyter.org/\">NBViewer</a>),\n",
       "  it may mean that your frontend doesn't currently support widgets.\n",
       "</p>\n"
      ],
      "text/plain": [
       "Box(children=(Box(children=(Dropdown(description=u'Inputfile', options=('Exercise1.in', 'Exercise1b.in', 'TrainingNew.in', 'co_budget.in', 'co_budget1.in', 'co_methane.in', 'co_simualtion.in', 'fossil.in', 'fossil2.in', 'fossil3.in', 'inter1.in', 'inter2.in', 'inter3.in', 'inter4.in', 'inter_nokonv1.in', 'inter_nokonv2.in', 'japan.in', 'mcf.in', 'mcf_new.in', 'mcf_newest.in', 'point.in', 'pointt.in', 'radon_konv1.in', 'radon_konv2.in', 'radon_nokonv1.in', 'radon_nokonv2.in', 'test4.in'), value='Exercise1.in'), Button(description=u'Run Model', style=ButtonStyle()), ToggleButton(value=False, description=u'Make Plots'), ToggleButton(value=False, description=u'Overplot')), layout=Layout(display=u'flex', flex_flow=u'row', justify_content=u'space-between')), Box(children=(SelectMultiple(description=u'Output', index=(0,), options=('xx',), value=('xx',)), SelectMultiple(index=(0,), options=('no station',), value=('no station',)), SelectMultiple(layout=Layout(visibility=u'hidden'), options=('no station',), value=())), layout=Layout(display=u'flex', flex_flow=u'row', justify_content=u'space-between')), Box(children=(Label(value=u'conversion'), ToggleButtons(options=('mol/mol', 'ppm', 'ppb', 'ppt'), value='mol/mol')), layout=Layout(display=u'flex', flex_flow=u'row', justify_content=u'space-between')), Box(children=(Label(value=u'# levels', layout=Layout(visibility=u'hidden')), IntSlider(value=10, layout=Layout(visibility=u'hidden'), max=30, min=5), Checkbox(value=True, description=u'grid'), Checkbox(value=True, description=u'automatic')), layout=Layout(display=u'flex', flex_flow=u'row', justify_content=u'space-between')), Box(children=(Label(value=u'yMin, yMax', layout=Layout(visibility=u'hidden')), BoundedFloatText(value=0.0, description=u'Min', layout=Layout(visibility=u'hidden'), max=10000000000.0), BoundedFloatText(value=10000000000.0, description=u'Max', layout=Layout(visibility=u'hidden'), max=100000000000.0)), layout=Layout(display=u'flex', flex_flow=u'row', justify_content=u'space-between')), Box(children=(Label(value=u'xMin, xMax', layout=Layout(visibility=u'hidden')), BoundedFloatText(value=1900.0849315068492, description=u'Tmin', layout=Layout(visibility=u'hidden'), max=2020.0849315068492), BoundedFloatText(value=2020.0849315068492, description=u'Tmax', layout=Layout(visibility=u'hidden'), max=20200.84931506849, min=1900.0849315068492)), layout=Layout(display=u'flex', flex_flow=u'row', justify_content=u'space-between'))), layout=Layout(align_items=u'stretch', border=u'solid 2px', display=u'flex', flex_flow=u'column', width=u'100%'))"
      ]
     },
     "metadata": {},
     "output_type": "display_data"
    },
    {
     "data": {
      "application/vnd.jupyter.widget-view+json": {
       "model_id": "0f232e1154a34d03b1342913e94944d6",
       "version_major": 2,
       "version_minor": 0
      },
      "text/html": [
       "<p>Failed to display Jupyter Widget of type <code>interactive</code>.</p>\n",
       "<p>\n",
       "  If you're reading this message in the Jupyter Notebook or JupyterLab Notebook, it may mean\n",
       "  that the widgets JavaScript is still loading. If this message persists, it\n",
       "  likely means that the widgets JavaScript library is either not installed or\n",
       "  not enabled. See the <a href=\"https://ipywidgets.readthedocs.io/en/stable/user_install.html\">Jupyter\n",
       "  Widgets Documentation</a> for setup instructions.\n",
       "</p>\n",
       "<p>\n",
       "  If you're reading this message in another frontend (for example, a static\n",
       "  rendering on GitHub or <a href=\"https://nbviewer.jupyter.org/\">NBViewer</a>),\n",
       "  it may mean that your frontend doesn't currently support widgets.\n",
       "</p>\n"
      ],
      "text/plain": [
       "interactive(children=(ToggleButton(value=False, description=u'Make Plots'), Output()), _dom_classes=('widget-interact',))"
      ]
     },
     "metadata": {},
     "output_type": "display_data"
    }
   ],
   "source": [
    "# MOGUNTIA run widgets:\n",
    "from plot_moguntia_test import *\n",
    "pm3 = plot_moguntia_test()"
   ]
  },
  {
   "cell_type": "code",
   "execution_count": null,
   "metadata": {},
   "outputs": [],
   "source": []
  }
 ],
 "metadata": {
  "kernelspec": {
   "display_name": "Python 2",
   "language": "python",
   "name": "python2"
  },
  "language_info": {
   "codemirror_mode": {
    "name": "ipython",
    "version": 2
   },
   "file_extension": ".py",
   "mimetype": "text/x-python",
   "name": "python",
   "nbconvert_exporter": "python",
   "pygments_lexer": "ipython2",
   "version": "2.7.15"
  }
 },
 "nbformat": 4,
 "nbformat_minor": 1
}
