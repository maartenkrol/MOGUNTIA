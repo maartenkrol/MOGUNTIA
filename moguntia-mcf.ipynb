{
 "cells": [
  {
   "cell_type": "markdown",
   "metadata": {},
   "source": [
    "\n",
    "# MOGUNTIA exercises\n",
    "\n",
    "---------\n",
    "<FONT COLOR=red>\n",
    "\n",
    "# Methyl Chloroform as tracer to constrain OH\n",
    "\n",
    "</FONT COLOR=red> \n",
    "\n",
    "\n",
    "----------\n",
    "\n",
    "\n",
    "\n",
    "##### Maarten Krol, October 2015\n",
    "##### version 1.0\n",
    "\n",
    "### Goal\n",
    "\n",
    "Simulate the concentrations of methyl-chloroform. Estimate the reaction constant between OH and methyl-chloroform. Determine how well methyl-chloroform constrains the OH level in the atmosphere. Explore more recent measurements. Discuss uncertainties.\n",
    "\n",
    "### Introduction\n",
    "\n",
    "The oxidizing capacity of the atmosphere is for a large part determined by the OH radical. This radical is produced as a result of ozone photolysis in the presence of water vapor:\n",
    "\\begin{eqnarray}\n",
    "{\\rm O_3 + h\\nu \\longrightarrow O(^1D) + O_2} \\\\\n",
    "{\\rm O(^1D) + H_2O \\longrightarrow 2 OH}\n",
    "\\end{eqnarray}\n",
    "\n",
    "On a global scale the most important sink for OH is its reaction with either CO or methane, relatively well-mixed gases that limit the lifetime of OH to 1-10 seconds. In the planetary boundary layer, however, non-methane hydrocarbons may be the dominant OH sink, in particular in polluted and forested areas.\n",
    "\n",
    "The lifetime of many trace gases, and most notably those of methane and CO, is determined by the reaction with OH. In order to understand the tropospheric trends and concentrations of these gases, knowledge of the tropospheric OH distribution and its temporal variation is therefore of vital importance. Figure 1 illustrates the central position of the OH radical in tropospheric chemistry.\n",
    "\n",
    "\n",
    "\n",
    "<figure>\n",
    "  <img src=\"c2cs35140d-f1.gif\", width=\"400\" height=\"200\">\n",
    "  <figcaption> <i>Figure 1: Central role of OH in tropospheric chemistry, from: J. R. Olson, J. H. Crawford, G. Chen, W. H. Brune, I. C. Faloona, D. Tan, H. Harder and M. Martinez, J. Geophys. Res., 2006, 111, D10301.\n",
    "</i></figcaption>\n",
    "</figure>\n",
    "\n",
    "\n",
    "Methods to measure OH in-situ in the troposphere are rapidly being developed and these measurements show that the OH concentration is highly variable in space and time. This is expected on a theoretical basis, since the OH production is mainly determined by ozone, water vapor, and UV-B radiation, which are extremely variable in the troposphere. For instance, the variability of UV-B is caused by the variable solar zenith angle, clouds, surface reflections, and the overhead ozone column.\n",
    "\n",
    "Since reaction with OH is the most important sink for methane, measurements of methane may be used to estimate the globally averaged OH concentration. This requires detailed knowledge of the methane sources. However, since methane is emitted by many anthropogenic and natural sources, estimates of the total source are rather uncertain.\n",
    "\n",
    "Methylchloroform (1,1,1 trichloroethane, CH$_3$CCl$_3$, hereafter called MCF) provides a better opportunity to constrain tropospheric OH concentrations. Sources of this compound are purely anthropogenic and it is claimed that the emissions are known with high accuracy. Most sources are located in the northern hemisphere, which results in a latitudinal gradient from north to south. Since the beginning of the 1990s the MCF concentrations in the troposphere are declining.\n",
    "\n",
    "In global three-dimensional tropospheric chemistry modeling it has become a common exercise to test the calculated OH fields by simulating the MCF concentration at the so-called ALE/GAGE stations. Due to the uncertainties in the OH chemistry, rate constants, photolysis frequencies and the distribution of OH precursors and sinks, the accuracy of the calculated OH fields is limited. Therefore, some deviation between the measurements and the model results can be expected. It is estimated that a typical value of global mean OH is uncertain up-to about 25% due to kinetics imprecision. Figure 2 displays typical OH fields that are used in MOGUNTIA. Clearly, more OH is present on the summer hemisphere.\n",
    "\n",
    "<figure>\n",
    "  <img src=\"oh_jun.png\", width=\"400\" height=\"300\">\n",
    "  <img src=\"oh_dec.png\", width=\"400\" height=\"300\">\n",
    "  <figcaption> <i>Figure 2: Zonal average OH concentrations in June (upper) and December (lower).\n",
    ")</i></figcaption>\n",
    "</figure>\n",
    "\n",
    "\n",
    "In this exercise the following issues will be investigated:\n",
    "\n",
    "> * How well does the MOGUNTIA model simulate the MCF concentrations at the ALE/GAGE stations?\n",
    "> * How does MOGUNTIA constrain the MCF oxidation given by\n",
    "\\begin{eqnarray}\n",
    "{\\rm MCF + OH \\longrightarrow products} \\\\\n",
    "\\frac{\\rm dMCF}{\\rm dt} {\\rm = -k.OH.MCF = -L.MCF} \\\\\n",
    "\\end{eqnarray}\n",
    "\n",
    ">> The loss rate is given by the product of OH and a reaction constant k. This reaction constant is temperature dependent and is given by:\n",
    "\n",
    "\\begin{eqnarray}\n",
    "{\\rm k =\\  ??? \\ \\exp{(-1550/T)} \\ {cm}^3 {molecules}^{-1}s^{-1}} \\\\\n",
    "{\\rm 1 \\times 10^{-12} < \\ ??? < 1 \\times 10^{-11} {cm}^{3}{molecules}^{-1}s^{-1}}\n",
    "\\end{eqnarray}\n",
    "\n",
    "> with ??? to be determined and T in Kelvin?\n",
    ">> Remember that estimation of ??? is equivalent to an estimation of OH.\n",
    "\n",
    "> How consistent is the derived removal rate over longer periods?\n",
    "\n",
    ">> If you are not yet familiar with running MOGUNTIA, please complete **moguntia-training** first\n",
    "\n"
   ]
  },
  {
   "cell_type": "markdown",
   "metadata": {},
   "source": [
    "Exercise 1: Determine the rate constant for MCF + OH\n",
    "\n",
    "ALE/GAGE measurements of MCF have been taken from 1978. Five measurement stations are located in the 'clean' remote regions, see figure 3. Whenever applicable, pollution events have been omitted from the data. \n",
    "\n",
    "1. Mace Head (53N, 11W)\n",
    "2. Oregon (45N, 124W)\n",
    "3. Barbados (13N, 59W)\n",
    "4. Samoa (14S, 171W)\n",
    "5. Tasmania (41S, 145E)\n",
    "\n",
    "\n",
    "<figure>\n",
    "  <img src=\"MCF_station.png\", width=\"600\" height=\"400\">\n",
    "  <figcaption> <i>Figure 3: Locations of the ALE/GAGE measurement stations</i></figcaption>\n",
    "</figure>\n",
    "\n",
    "As an example, Figure 4 shows the measurements at Barbados from 1978 upto 1994. Using the **overplot** functionality, you can plot these measurements together with the simulations in the analysis below.\n",
    "<figure>\n",
    "  <img src=\"MCFBarbados.gif\", width=\"400\" height=\"400\">\n",
    "  <figcaption> <i>Figure 4: MCF measurements (in ppt) at Barbados. The asterisks in the following plots denote monthly averages. Bars denote standard deviations</i></figcaption>\n",
    "</figure>\n",
    "\n",
    "At times of strong emissions (e.g. the 1980s) NH stations show considerably more variability due to the proximity of the sources. \n",
    "\n",
    "In order to simulate the MCF concentrations, we need to run the model for a longer period. The lifetime of MCF is 4-5 years, so we need a spin up time of at least 4 years. The model is initialized by concentrations of 40 ppt (parts per trillion) in 1975 and is run from then. First we set the reaction rate to\n",
    "\n",
    "\\begin{equation}\n",
    "{\\rm k = 5\\times 10^{-12}\\exp{(-1550/T)}\\ {cm}^3{molecules}^{-1}s^{-1}}\n",
    "\\end{equation}\n",
    "\n",
    "We will investigate if this value is reasonable. The input file **mcf.in** requests a 19 year MOGUNTIA simulation and specifies the emissions (see **EMISSION DISTRIBUTION**) and chemical destruction by OH with the rate stated before. See figure 5 for the emission distribution that is applied in MOGUNTIA.\n",
    "\n",
    "<figure>\n",
    "  <img src=\"mcf.png\", width=\"400\" height=\"300\">\n",
    "  <figcaption> <i>Figure 5: Distribution of the MCF emissions that is used in the simulations</i></figcaption>\n",
    "</figure>\n",
    "\n",
    "> Open the input file **mcf.in** and try to understand its contents\n",
    "> Run MOGUNTIA by selecting the cell below and pressing **Shift-Enter**. Select the input file **mcf.in**\n",
    "\n",
    ">> The simulation will take about 30 seconds\n",
    "\n",
    "> After completion, execute the cell below (**Shift-Enter**). The analysis widgets will appear.\n",
    "\n",
    ">> Typically, concentrations of MCF are given in parts per trillion (ppt)\n",
    "\n",
    "Complete the following assignments:\n",
    "\n",
    ">  Q1: Discuss the simulated seasonal cycle\n",
    "\n",
    ">  Q2: Discuss differences between the stations, in terms of variability and seasonal cycle\n",
    "\n",
    ">  Q3: Discuss the latitudinal gradient\n",
    "\n",
    ">  Q4: Use overplot. To improve the match with observations, should the rate be higher or lower?\n",
    "\n",
    "Now, the rate **k** in **mcf.in** should be adjusted. Make a guess what value to use and rerun MOGUNTIA.\n",
    "\n",
    ">  Q5: By comparing simulations to atmospheric observations at several stations, what is the \"best\" value of **k**?\n",
    "\n",
    ">  Q6: Estimate the uncertainty in the rate constant. This uncertainty can also be interpreted as uncertainty in the OH fields. Is MCF a good tracer to constrain the OH fields (see introduction)?\n"
   ]
  },
  {
   "cell_type": "code",
   "execution_count": 1,
   "metadata": {
    "collapsed": false
   },
   "outputs": [
    {
     "ename": "CalledProcessError",
     "evalue": "Command '['./MOGUNTIA']' returned non-zero exit status -5",
     "output_type": "error",
     "traceback": [
      "\u001b[0;31m---------------------------------------------------------------------------\u001b[0m",
      "\u001b[0;31mCalledProcessError\u001b[0m                        Traceback (most recent call last)",
      "\u001b[0;32m/Users/krol/Notebooks/Moguntia/Cmoguntia.pyc\u001b[0m in \u001b[0;36mMoguntia\u001b[0;34m(self, inputfile)\u001b[0m\n\u001b[1;32m     13\u001b[0m     \u001b[0;32mdef\u001b[0m \u001b[0mMoguntia\u001b[0m\u001b[0;34m(\u001b[0m\u001b[0mself\u001b[0m\u001b[0;34m,\u001b[0m\u001b[0minputfile\u001b[0m \u001b[0;34m=\u001b[0m \u001b[0;34m'test.in'\u001b[0m\u001b[0;34m)\u001b[0m\u001b[0;34m:\u001b[0m\u001b[0;34m\u001b[0m\u001b[0m\n\u001b[1;32m     14\u001b[0m         \u001b[0mxfile\u001b[0m \u001b[0;34m=\u001b[0m \u001b[0mopen\u001b[0m\u001b[0;34m(\u001b[0m\u001b[0minputfile\u001b[0m\u001b[0;34m,\u001b[0m\u001b[0;34m'r'\u001b[0m\u001b[0;34m)\u001b[0m\u001b[0;34m\u001b[0m\u001b[0m\n\u001b[0;32m---> 15\u001b[0;31m         \u001b[0moutp\u001b[0m \u001b[0;34m=\u001b[0m \u001b[0msubprocess\u001b[0m\u001b[0;34m.\u001b[0m\u001b[0mcheck_output\u001b[0m\u001b[0;34m(\u001b[0m\u001b[0;34m[\u001b[0m\u001b[0;34m'./MOGUNTIA'\u001b[0m\u001b[0;34m]\u001b[0m\u001b[0;34m,\u001b[0m\u001b[0mstdin\u001b[0m\u001b[0;34m=\u001b[0m\u001b[0mxfile\u001b[0m\u001b[0;34m)\u001b[0m\u001b[0;34m\u001b[0m\u001b[0m\n\u001b[0m\u001b[1;32m     16\u001b[0m         \u001b[0;32mprint\u001b[0m\u001b[0;34m(\u001b[0m\u001b[0moutp\u001b[0m\u001b[0;34m.\u001b[0m\u001b[0mdecode\u001b[0m\u001b[0;34m(\u001b[0m\u001b[0;34m\"utf-8\"\u001b[0m\u001b[0;34m)\u001b[0m\u001b[0;34m)\u001b[0m\u001b[0;34m\u001b[0m\u001b[0m\n\u001b[1;32m     17\u001b[0m         \u001b[0mxfile\u001b[0m\u001b[0;34m.\u001b[0m\u001b[0mclose\u001b[0m\u001b[0;34m(\u001b[0m\u001b[0;34m)\u001b[0m\u001b[0;34m\u001b[0m\u001b[0m\n",
      "\u001b[0;32m/usr/local/Cellar/python/2.7.10_2/Frameworks/Python.framework/Versions/2.7/lib/python2.7/subprocess.pyc\u001b[0m in \u001b[0;36mcheck_output\u001b[0;34m(*popenargs, **kwargs)\u001b[0m\n\u001b[1;32m    571\u001b[0m         \u001b[0;32mif\u001b[0m \u001b[0mcmd\u001b[0m \u001b[0;32mis\u001b[0m \u001b[0mNone\u001b[0m\u001b[0;34m:\u001b[0m\u001b[0;34m\u001b[0m\u001b[0m\n\u001b[1;32m    572\u001b[0m             \u001b[0mcmd\u001b[0m \u001b[0;34m=\u001b[0m \u001b[0mpopenargs\u001b[0m\u001b[0;34m[\u001b[0m\u001b[0;36m0\u001b[0m\u001b[0;34m]\u001b[0m\u001b[0;34m\u001b[0m\u001b[0m\n\u001b[0;32m--> 573\u001b[0;31m         \u001b[0;32mraise\u001b[0m \u001b[0mCalledProcessError\u001b[0m\u001b[0;34m(\u001b[0m\u001b[0mretcode\u001b[0m\u001b[0;34m,\u001b[0m \u001b[0mcmd\u001b[0m\u001b[0;34m,\u001b[0m \u001b[0moutput\u001b[0m\u001b[0;34m=\u001b[0m\u001b[0moutput\u001b[0m\u001b[0;34m)\u001b[0m\u001b[0;34m\u001b[0m\u001b[0m\n\u001b[0m\u001b[1;32m    574\u001b[0m     \u001b[0;32mreturn\u001b[0m \u001b[0moutput\u001b[0m\u001b[0;34m\u001b[0m\u001b[0m\n\u001b[1;32m    575\u001b[0m \u001b[0;34m\u001b[0m\u001b[0m\n",
      "\u001b[0;31mCalledProcessError\u001b[0m: Command '['./MOGUNTIA']' returned non-zero exit status -5"
     ]
    }
   ],
   "source": [
    "# MOGUNTIA run widgets:\n",
    "%pylab inline\n",
    "from pylab import *\n",
    "from Cmoguntia import *\n",
    "xlf = CMoguntia()"
   ]
  },
  {
   "cell_type": "code",
   "execution_count": 2,
   "metadata": {
    "collapsed": false
   },
   "outputs": [
    {
     "data": {
      "image/png": "[encoded data removed]",
      "text/plain": [
       "<matplotlib.figure.Figure at 0x109628b00>"
      ]
     },
     "metadata": {},
     "output_type": "display_data"
    }
   ],
   "source": [
    "# analysis widgets:\n",
    "from plot_moguntia_new import *\n",
    "pm = plot_moguntia_new(xlf)"
   ]
  },
  {
   "cell_type": "markdown",
   "metadata": {},
   "source": [
    "### Exercise 2: Test with more recent measurements\n",
    "\n",
    "The simulation of MCF with MOGUNTIA seems to work reasonable for the period 1978-1994. A rigorous test for the estimated rate of removal (k.OH) is the application of this removal to more recent measurements. Is the removal rate estimated for 1978-1994 applicable for 1990-2009? In this period, we are observing a decaying burden of MCF, due to strongly reduced emissions. These emission reductions are caused by the implementation of the Montreal Protocol and its amendments. Interestingly, due to the quick reduction in emissions, the MCF burden in the atmosphere showed an exponential decay as illustrated in Figure 6.\n",
    "\n",
    "<figure>\n",
    "  <img src=\"mhd.png\", width=\"700\" height=\"400\">\n",
    "  <figcaption> <i>Figure 6: MCF measurements (in ppt or pmol/mol) at Mace Head (ireland). The green symbols are the measurements from the AGAGE network. Note that the variations of the concentrations during the month (error bars) are strongly reduced due to quickly dimished emissions</i></figcaption>\n",
    "</figure>\n",
    "\n",
    "\n",
    "In order to set up a simulation for the later period we need\n",
    "\n",
    "  1. A suitable start concentration\n",
    "  2. The optimized rate constant from the previous exercise\n",
    "  3. Yearly emission estimates for the 1990-2009 period\n",
    "\n",
    "\n",
    "> * Open the MOGUNTIA input file **mcf_new.in**\n",
    "> * Fill in the reaction rate that is consistent with previous exercise (1975-1993)\n",
    "> * Estimate a suitable start concentration in 1990 from the simulations and observations used above\n",
    "\n",
    ">> Note that the concentrations in 1990 are much higher on the NH, so some compromise is needed.\n",
    "\n",
    "> * Perform the simulation using the saved file **mcf_new.in**\n",
    "\n",
    "Complete the following assignments:\n",
    "\n",
    "> Q7: What do you observe for the seasonal cycle?\n",
    "\n",
    "> Q8: What do you observe for the north-south gradient in MCF? Can you explain?\n",
    "\n",
    "> Q9: How do these features compare to the observations?\n",
    "\n",
    "> Q10: How do the end concentrations at the stations match with the observed concentrations?\n",
    "\n",
    "> Q11: What is your conclusion about the suitability of the rate constant derived for 1978-1994?\n",
    "\n",
    "> Q12: Did the global OH concentration change much from the 1980s to the recent period?\n",
    "\n",
    "> Q13 (extra): Set up a simulation for the entire 1975-2009 period, by merging **mcf.in** and **mcf_new.in**\n",
    "\n",
    ">> Note that you have to provide the emission amounts and to adjust the line:\n",
    "\n",
    "                EMISSION DISTRIBUTION mcf_dist.dat 19  \n",
    "\n"
   ]
  },
  {
   "cell_type": "code",
   "execution_count": 2,
   "metadata": {
    "collapsed": false
   },
   "outputs": [
    {
     "name": "stdout",
     "output_type": "stream",
     "text": [
      " HDF read asland returns: 0\n",
      "  Pressure (hPa) - Height (m)\n",
      "    1000.0        0.\n",
      "     900.0      909.\n",
      "     800.0     1904.\n",
      "     700.0     3005.\n",
      "     600.0     4241.\n",
      "     500.0     5658.\n",
      "     400.0     7326.\n",
      "     300.0     9375.\n",
      "     200.0    12079.\n",
      "     100.0    16245.\n",
      " (19                                                         years of total emitted amounts in ktonnes per year follow:)                                                                          \n",
      " Unrecognized word in input line ******WARNING*******\n",
      " Simulation year: 1990\n",
      " Simulation year: 1991\n",
      " Simulation year: 1992\n",
      " Simulation year: 1993\n",
      " Simulation year: 1994\n",
      " Simulation year: 1995\n",
      " Simulation year: 1996\n",
      " Simulation year: 1997\n",
      " Simulation year: 1998\n",
      " Simulation year: 1999\n",
      " Simulation year: 2000\n",
      " Simulation year: 2001\n",
      " Simulation year: 2002\n",
      " Simulation year: 2003\n",
      " Simulation year: 2004\n",
      " Simulation year: 2005\n",
      " Simulation year: 2006\n",
      " Simulation year: 2007\n",
      " Simulation year: 2008\n",
      " Simulation year: 2009\n",
      " No emission amount found for this year\n",
      "itransport 2490370\n",
      "\n"
     ]
    },
    {
     "data": {
      "text/plain": [
       "None"
      ]
     },
     "metadata": {},
     "output_type": "display_data"
    }
   ],
   "source": [
    "# MOGUNTIA run widgets:\n",
    "%pylab inline\n",
    "from pylab import *\n",
    "from Cmoguntia import *\n",
    "xlf = CMoguntia()"
   ]
  },
  {
   "cell_type": "code",
   "execution_count": 3,
   "metadata": {
    "collapsed": false
   },
   "outputs": [
    {
     "data": {
      "text/plain": [
       "None"
      ]
     },
     "metadata": {},
     "output_type": "display_data"
    }
   ],
   "source": [
    "# analysis widgets:\n",
    "from plot_moguntia_new import *\n",
    "pm = plot_moguntia_new(xlf)"
   ]
  },
  {
   "cell_type": "markdown",
   "metadata": {},
   "source": [
    "### Exercise 3 (extra): Accounting for other MCF sinks\n",
    "\n",
    "In reality we have to account for the uptake of MCF by the oceans and removal in the stratosphere. In this extra exercise we will investigate the impact of these additional sinks on the simulations.\n",
    "\n",
    "The time scale for removal by the ocean is estimated as about 80 years. \n",
    "The time scale for stratospheric removal as 45 years. \n",
    "\n",
    "> * Calculate the overall time scale for the combined oceanic and stratospheric removal processes\n",
    "\n",
    "> * Adjust **LIFE_TIME** in the input file to account for these removal processes\n",
    "\n",
    "> * Redo the first two exercise and re-estimate the removal rate (k). Is this k lower or higher? Why?\n",
    "\n"
   ]
  },
  {
   "cell_type": "code",
   "execution_count": null,
   "metadata": {
    "collapsed": true
   },
   "outputs": [],
   "source": []
  }
 ],
 "metadata": {
  "kernelspec": {
   "display_name": "Python 2",
   "language": "python",
   "name": "python2"
  },
  "language_info": {
   "codemirror_mode": {
    "name": "ipython",
    "version": 2
   },
   "file_extension": ".py",
   "mimetype": "text/x-python",
   "name": "python",
   "nbconvert_exporter": "python",
   "pygments_lexer": "ipython2",
   "version": "2.7.10"
  }
 },
 "nbformat": 4,
 "nbformat_minor": 0
}
