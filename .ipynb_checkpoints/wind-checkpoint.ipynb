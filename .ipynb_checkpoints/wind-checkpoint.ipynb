{
 "cells": [
  {
   "cell_type": "markdown",
   "metadata": {},
   "source": [
    "# Meteo in MOGUNTIA\n",
    "\n",
    "The meteo in MOGUNTIA is provided by the ECMWF weather model. A weather model assimilates observations in combination with a numerical model (describing the physical processes in the atmosphere) to produce a weather forecast (e.g. 2x a day at 00-UTC and 12-UTC). This is an representation of the atmosperic state (temperature, moisture) and its motions (winds) that are used in MOGUNTIA to transport \"tracers\", such as CO and CO$_2$. \n",
    "MOGUNTIA is however relatively simple in its approach. The winds are averaged over a whole month of the year 1987. So the winds in MOGUNTIA are not representing day to day vaiability and are in principle not valid to simulate years other than 1987. However, 1987 was a rather normal year, and the monthly averaged winds still give a good representation of the month-to-month variation in the atmosphere, such as the monsoon and the atmospheric jet-stream.\n",
    "\n",
    "The small program below reads in the MOGUNTIA winds and lets you explore the wind fields per month, atmospheric layer (1000 - 100 hPa) and as pressure-latitude/longitude plots."
   ]
  },
  {
   "cell_type": "code",
   "execution_count": 1,
   "metadata": {
    "collapsed": false,
    "scrolled": false
   },
   "outputs": [
    {
     "ename": "AttributeError",
     "evalue": "'Cwind' object has no attribute 'action'",
     "output_type": "error",
     "traceback": [
      "\u001b[0;31m---------------------------------------------------------------------------\u001b[0m",
      "\u001b[0;31mAttributeError\u001b[0m                            Traceback (most recent call last)",
      "\u001b[0;32m<ipython-input-1-904128bccabd>\u001b[0m in \u001b[0;36m<module>\u001b[0;34m()\u001b[0m\n\u001b[1;32m      4\u001b[0m \u001b[0mxwind\u001b[0m \u001b[0;34m=\u001b[0m \u001b[0mCwind\u001b[0m\u001b[0;34m(\u001b[0m\u001b[0;34m)\u001b[0m\u001b[0;34m\u001b[0m\u001b[0m\n\u001b[1;32m      5\u001b[0m a = interact(xwind.plot_wind, \n\u001b[0;32m----> 6\u001b[0;31m          \u001b[0maction\u001b[0m\u001b[0;34m=\u001b[0m\u001b[0mxwind\u001b[0m\u001b[0;34m.\u001b[0m\u001b[0maction\u001b[0m\u001b[0;34m,\u001b[0m\u001b[0;34m\u001b[0m\u001b[0m\n\u001b[0m\u001b[1;32m      7\u001b[0m          \u001b[0mmonth\u001b[0m\u001b[0;34m=\u001b[0m\u001b[0mxwind\u001b[0m\u001b[0;34m.\u001b[0m\u001b[0mm_slider\u001b[0m\u001b[0;34m,\u001b[0m\u001b[0;34m\u001b[0m\u001b[0m\n\u001b[1;32m      8\u001b[0m          \u001b[0mlon\u001b[0m\u001b[0;34m=\u001b[0m\u001b[0mxwind\u001b[0m\u001b[0;34m.\u001b[0m\u001b[0mlon_slider\u001b[0m\u001b[0;34m,\u001b[0m\u001b[0;34m\u001b[0m\u001b[0m\n",
      "\u001b[0;31mAttributeError\u001b[0m: 'Cwind' object has no attribute 'action'"
     ]
    }
   ],
   "source": [
    "%matplotlib inline\n",
    "\n",
    "from Cwind import *\n",
    "xwind = Cwind()\n",
    "a = interact(xwind.plot_wind, \n",
    "         action=xwind.action,\n",
    "         month=xwind.m_slider,\n",
    "         lon=xwind.lon_slider,\n",
    "         lat=xwind.lat_slider,\n",
    "         pres=xwind.pres_slider)\n",
    "\n",
    "\n"
   ]
  },
  {
   "cell_type": "code",
   "execution_count": null,
   "metadata": {
    "collapsed": true
   },
   "outputs": [],
   "source": []
  }
 ],
 "metadata": {
  "kernelspec": {
   "display_name": "Python 3",
   "language": "python",
   "name": "python3"
  },
  "language_info": {
   "codemirror_mode": {
    "name": "ipython",
    "version": 3
   },
   "file_extension": ".py",
   "mimetype": "text/x-python",
   "name": "python",
   "nbconvert_exporter": "python",
   "pygments_lexer": "ipython3",
   "version": "3.5.0"
  }
 },
 "nbformat": 4,
 "nbformat_minor": 0
}
