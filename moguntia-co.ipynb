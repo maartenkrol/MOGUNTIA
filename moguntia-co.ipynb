{
 "cells": [
  {
   "cell_type": "markdown",
   "metadata": {},
   "source": [
    "# MOGUNTIA exercises\n",
    "\n",
    "-------------\n",
    "<FONT COLOR=red>\n",
    "\n",
    "## The CO budget\n",
    "\n",
    "<FONT COLOR=black>\n",
    "\n",
    "---------------\n",
    "\n",
    "##### Maarten Krol, September 2019\n",
    "##### version 2.1\n",
    "\n",
    "### Goal:\n",
    "\n",
    "* Study the CO budget. \n",
    "* Compare simulated CO values to CO measurements. \n",
    "* Analyze the contribution of different CO sources to the CO levels in the atmosphere.\n",
    "\n",
    "### Introduction\n",
    "\n",
    "Tropospheric CO strongly influences the oxidation efficiency of our atmosphere. Gloablly aveargaed, more than half the hydroxyl radicals (OH) react with CO. This reaction is also the dominant sink for CO as surface deposition and other reaction pathways are relatively minor. Biomass burning and fossil fuel combustion are main anthropogenic CO sources that account for about 40% of the global source. Contributions from the different source categories are given in Table 1.\n",
    "<table>\n",
    "  <caption>Table 1: Emissions of CO expressed in teragram (Tg) per year, 1 Tg = 10$^{12}$ g.\n",
    "  NMHC = Non-Methane HydroCarbons</caption>\n",
    "<tr>\n",
    "<th>Source Category</th>\n",
    "<th>CO Emission (Tg/year)</th>\n",
    "</tr>\n",
    "<tr>\n",
    "<td>Energy Use</td>\n",
    "<td>540</td>\n",
    "</tr>\n",
    "<tr>\n",
    "<td>Anthropogenic Biomass Burning</td>\n",
    "<td>400</td>\n",
    "</tr>\n",
    "<tr>\n",
    "<td>Wildfires</td>\n",
    "<td>30</td>\n",
    "</tr>\n",
    "<tr>\n",
    "<td>Vegetation</td>\n",
    "<td>100</td>\n",
    "</tr>\n",
    "<tr>\n",
    "<td>Oxidation of natural CH$_4$</td>\n",
    "<td>250</td>\n",
    "</tr>\n",
    "<tr>\n",
    "<td>Oxidation of anthropogenic CH$_4$</td>\n",
    "<td>595</td>\n",
    "</tr>\n",
    "<tr>\n",
    "<td>Oxidation of natural NMHC</td>\n",
    "<td>325</td>\n",
    "</tr>\n",
    "<tr>\n",
    "<td>Oxidation of anthropogenic NMHC</td>\n",
    "<td>120</td>\n",
    "</tr>\n",
    "<tr>\n",
    "<td>Oceans</td>\n",
    "<td>100</td>\n",
    "</tr>\n",
    "<tr>\n",
    "<td>Total</td>\n",
    "<td>2460</td>\n",
    "</tr>\n",
    "</table>\n",
    "\n",
    "Increasing CO as a consequence of anthropogenic emissions in the past century has likely contributed to a global depletion of OH and thus a reduction of the oxidation efficiency of the atmosphere. On the other hand, the recent trend reversal of CO, possibly due to a moderation of anthropogenic emissions, may have contributed to a partial recovery of OH levels. Global observations and the quantification of CO changes and its budget are of utmost importance to monitor the state of our atmosphere.\n",
    "\n",
    "Although the global CO burden of the atmosphere is fairly well known, the estimates of source categories are highly uncertain. Most of the emission estimates have uncertainty ranges of about 50%. For example, the CO yield from non-methane hydrocarbon (NMHC) oxidation in the atmosphere is poorly known. Large quantities of natural NMHC are emitted as isoprene and monoterpenes. Both the emissions of these gases and their reaction products are poorly quantified. If removal of soluble or aerosol forming NMHC reaction intermediates would be important, this would substantially limit the amount of CO released from these compounds. Models can help quantifying these processes by integration of the growing knowledge about sources, transport and chemical mechanisms, and through comparisons with observations.\n",
    "\n",
    "The lifetime of CO varies considerably in the atmosphere. In the high latitude winter this lifetime is relatively long (>0.5 year) because the OH radical concentrations are very low. At low altitudes in the tropics, where both radiation and water vapor abundance promote OH radical formation, the CO lifetime drops to values less than a month. At mid-latitudes the seasonal cycle is characterized by CO buildup in winter and depletion in summer. On the one hand, CO lives long enough to be transported over considerable distances. On the other hand, its lifetime is short enough that it can be present in the background atmosphere in rather small concentrations."
   ]
  },
  {
   "cell_type": "markdown",
   "metadata": {},
   "source": [
    "<figure>\n",
    "  <img src=\"co_emissions_jun.png\", width=\"400\" height=\"300\">\n",
    "  <img src=\"co_emissions_dec.png\", width=\"400\" height=\"300\">\n",
    "  <figcaption> <i>Figure 1: Distribution of the surface CO emissions in June (upper) and December (lower)</i></figcaption>\n",
    "</figure>\n",
    "<figure>\n",
    "  <img src=\"oh_jun.png\", width=\"400\" height=\"300\">\n",
    "  <img src=\"oh_dec.png\", width=\"400\" height=\"300\">\n",
    "  <figcaption> <i>Figure 2: Zonal average OH concentrations in June (upper) and December (lower).\n",
    ")</i></figcaption>\n",
    "</figure>"
   ]
  },
  {
   "cell_type": "markdown",
   "metadata": {},
   "source": [
    "### The Exercise: general aim\n",
    "\n",
    "In this exercise, the CO distribution will be modeled in a simplified way. CO is treated as a tracer, which is\n",
    "* emitted at the surface by monthly varying emission fields (see Figure 1)\n",
    "* produced from oxidation of methane: CH$_4$ + OH &rarr; (intermediates) &rarr; CO. \n",
    "* destroyed by OH: CO + OH &rarr; CO$_2$ + H. (Figure 2 shows OH distributions)\n",
    "\n",
    ">To simulate the global CO distribution, we will use the **MOGUNTIA** model. General information on the model, and input to the model (i.e. tell the model what to simulate, what output to produce, etc.) can be found <a href=\"http://www.staff.science.uu.nl/~krol0101/moguntia/MANUAL/moguntia.doc/\">here</a>. Important: Whenever a line in the input file starts with a **blank**, the line in simply skipped. This allows easy on-off switching of commands\n",
    "\n",
    "\n",
    "> The exercises come with some pre-coocked input-files. If needed, you can open, edit, and save the input files, under the *File* tab above. With the exercises, it will be indicated what input files can be used. However, feel free to experiment, add stations, zonal output, extra sources, etc. Again, how to do this can be found <a href=\"http://www.staff.science.uu.nl/~krol0101/moguntia/MANUAL/moguntia.doc/\">here</a>.\n",
    "\n",
    "As you can see in the input files, we use a constant CH$_4$ concentration of 1900 ppb throughout the atmosphere to simulate CO production throughout the atmosphere."
   ]
  },
  {
   "cell_type": "markdown",
   "metadata": {},
   "source": [
    "### Exercise 1: How well do CO simulations compare to observations?\n",
    "\n",
    "The atmospheric lifetime of CO in the atmosphere is about two months. We start the simulations with a well-mixed atmospere with 100 ppb CO. From this point we add sources and sinks of CO, and run the model for 5 years:\n",
    "\n",
    "> 1. Position the cursor on the cell below and press **Shift-Enter**.\n",
    "\n",
    "> 2. Select the input file **co_simulation.in** and press **Run Model**. \n",
    "\n",
    "This  simulation produces output on stations, and as zonal average fields (e.g. coza.1992_01) or latitude-longitude output (e.g. coll.1992_01).\n"
   ]
  },
  {
   "cell_type": "code",
   "execution_count": 2,
   "metadata": {
    "scrolled": false
   },
   "outputs": [
    {
     "data": {
      "application/vnd.jupyter.widget-view+json": {
       "model_id": "c3c1b4b532f343bdba02106cd79dcc00",
       "version_major": 2,
       "version_minor": 0
      },
      "text/html": [
       "<p>Failed to display Jupyter Widget of type <code>Box</code>.</p>\n",
       "<p>\n",
       "  If you're reading this message in the Jupyter Notebook or JupyterLab Notebook, it may mean\n",
       "  that the widgets JavaScript is still loading. If this message persists, it\n",
       "  likely means that the widgets JavaScript library is either not installed or\n",
       "  not enabled. See the <a href=\"https://ipywidgets.readthedocs.io/en/stable/user_install.html\">Jupyter\n",
       "  Widgets Documentation</a> for setup instructions.\n",
       "</p>\n",
       "<p>\n",
       "  If you're reading this message in another frontend (for example, a static\n",
       "  rendering on GitHub or <a href=\"https://nbviewer.jupyter.org/\">NBViewer</a>),\n",
       "  it may mean that your frontend doesn't currently support widgets.\n",
       "</p>\n"
      ],
      "text/plain": [
       "Box(children=(Box(children=(Dropdown(description='Inputfile', options=('Exercise1.in', 'Exercise1b.in', 'co_budget.in', 'co_methane.in', 'co_simualtion.in', 'fossil.in', 'fossil2.in', 'fossil3.in', 'inter1.in', 'inter2.in', 'inter3.in', 'inter4.in', 'inter_nokonv1.in', 'inter_nokonv2.in', 'japan.in', 'mcf.in', 'mcf_new.in', 'point.in', 'pointt.in', 'radon_konv1.in', 'radon_konv2.in', 'radon_nokonv1.in', 'radon_nokonv2.in', 'test4.in'), value='Exercise1.in'), Button(description='Run Model', style=ButtonStyle()), ToggleButton(value=False, description='Make Plots'), ToggleButton(value=False, description='Overplot')), layout=Layout(display='flex', flex_flow='row', justify_content='space-between')), Box(children=(SelectMultiple(description='Output', index=(0,), options=('xx',), value=('xx',)), SelectMultiple(index=(0,), options=('no station',), value=('no station',)), SelectMultiple(layout=Layout(visibility='hidden'), options=('no station',), value=())), layout=Layout(display='flex', flex_flow='row', justify_content='space-between')), Box(children=(Label(value='conversion'), ToggleButtons(options=('mol/mol', 'ppm', 'ppb', 'ppt'), value='mol/mol')), layout=Layout(display='flex', flex_flow='row', justify_content='space-between')), Box(children=(Label(value='# levels', layout=Layout(visibility='hidden')), IntSlider(value=10, layout=Layout(visibility='hidden'), max=30, min=5), Checkbox(value=True, description='grid'), Checkbox(value=True, description='automatic')), layout=Layout(display='flex', flex_flow='row', justify_content='space-between')), Box(children=(Label(value='yMin, yMax', layout=Layout(visibility='hidden')), BoundedFloatText(value=0.0, description='Min', layout=Layout(visibility='hidden'), max=10000000000.0), BoundedFloatText(value=10000000000.0, description='Max', layout=Layout(visibility='hidden'), max=100000000000.0)), layout=Layout(display='flex', flex_flow='row', justify_content='space-between')), Box(children=(Label(value='xMin, xMax', layout=Layout(visibility='hidden')), BoundedFloatText(value=1900.0849315068492, description='Tmin', layout=Layout(visibility='hidden'), max=2020.0849315068492), BoundedFloatText(value=2020.0849315068492, description='Tmax', layout=Layout(visibility='hidden'), max=20200.84931506849, min=1900.0849315068492)), layout=Layout(display='flex', flex_flow='row', justify_content='space-between'))), layout=Layout(align_items='stretch', border='solid 2px', display='flex', flex_flow='column', width='100%'))"
      ]
     },
     "metadata": {},
     "output_type": "display_data"
    },
    {
     "data": {
      "application/vnd.jupyter.widget-view+json": {
       "model_id": "0448a2ef1f354aa0a80c033ee5be6234",
       "version_major": 2,
       "version_minor": 0
      },
      "text/html": [
       "<p>Failed to display Jupyter Widget of type <code>interactive</code>.</p>\n",
       "<p>\n",
       "  If you're reading this message in the Jupyter Notebook or JupyterLab Notebook, it may mean\n",
       "  that the widgets JavaScript is still loading. If this message persists, it\n",
       "  likely means that the widgets JavaScript library is either not installed or\n",
       "  not enabled. See the <a href=\"https://ipywidgets.readthedocs.io/en/stable/user_install.html\">Jupyter\n",
       "  Widgets Documentation</a> for setup instructions.\n",
       "</p>\n",
       "<p>\n",
       "  If you're reading this message in another frontend (for example, a static\n",
       "  rendering on GitHub or <a href=\"https://nbviewer.jupyter.org/\">NBViewer</a>),\n",
       "  it may mean that your frontend doesn't currently support widgets.\n",
       "</p>\n"
      ],
      "text/plain": [
       "interactive(children=(ToggleButton(value=False, description='Make Plots'), Output()), _dom_classes=('widget-interact',))"
      ]
     },
     "metadata": {},
     "output_type": "display_data"
    }
   ],
   "source": [
    "%matplotlib inline\n",
    "from plot_moguntia import *\n",
    "pm = plot_moguntia()"
   ]
  },
  {
   "cell_type": "markdown",
   "metadata": {},
   "source": [
    "### Analyzing the output\n",
    "\n",
    "CO is measured  by ground based stations. In this exercise, the CO simulations are compared to measurements at the stations illustrated in figure 3. For more information about CO measurements and measurement stations (e.g. names and three letter codes like **ALT**, **CGO**), please consult the \n",
    "<a href=\"http://www.esrl.noaa.gov/gmd/dv/iadv/\">NOAA interactive data visualization site</a>.\n",
    "\n",
    "<figure>\n",
    "  <img src=\"co_stations.png\", width=\"600\" height=\"400\">\n",
    "  <figcaption> <i>Figure 3: A sub-set of stations of the NOAA network on which CO measurements are available. These measurements will be compared to the output of the MOGUNTIA model.\n",
    ")</i></figcaption>\n",
    "</figure>\n",
    "\n",
    "Mixing ratios of CO are normally expressed as **ppb**, which corresponds to a mixing ratio of \n",
    "10$^{-9}$. Due to variability in emissions and variability in the transport to the measurement sites, large year-to-year variability in the CO mixing ratio is observed for most sites. Only remote stations show a regular pattern.\n",
    "\n",
    "Since the MOGUNTIA model is climatological and uses only one year of meteorological data (1987), variability in transport cannot be simulated. Also, variability is emissions is not simulated, since the quantification of emissions is quite difficult. For instance, biomass burning has a large year-to-year variability (e.g. Indonesian fires due to El Nino).\n",
    "\n",
    "Using the program in the cell below, analyse the output. First compare the output at the stations, by selecting the station file (ends with **.stations**), selecting of the *conversion* **ppb**, and pressing **Make Plots**. Make use of the **overplot** functionality to compare to the NOAA measurements. Address the following questions in your report:\n",
    "\n",
    "> Q1: What stations compare well, what stations compare not so well? Differentiate between NH, SH and equatorial stations. Where useful, include plots in the report.\n",
    "\n",
    "> Q2: Explain and compare the seasonal cycles.\n",
    "\n",
    "\n",
    "> Q3: Discuss possible causes of poor simulation of the observed CO mixing ratios.\n",
    "\n",
    ">> For the last exercise, it is good to investigate the zonal average (za) and latitude-longitude (ll) output that has been produced in the simulation. For the interpretation it helps to know that biomass burning CO emissions have a large seasonality, with distinct \"burning seasons\". Large interannual variations in the observed CO mixing ratio may indicate large variable sources and/or transport. "
   ]
  },
  {
   "cell_type": "markdown",
   "metadata": {},
   "source": [
    "### Exercise 2: The CO budget\n",
    "\n",
    "A CO molecule that is present in the atmosphere can originate from different sources. In order to study the contribution of the various sources to the CO levels at the stations, we investigate first how much of the CO is generated by methane oxidation. According to Table 1, about one third of the total CO production originates from oxidation of methane.\n",
    "\n",
    "The MOGUNTIA model can be used to estimate the contribution, by switching off all surface emissions. Precooked input files, in which the surface CO emissions are switched off, can be used. The cells below will initiate a new MOGUNTIA simulation, and analysis window.\n",
    "\n",
    "> 1. Run MOGUNTIA with input file **co_methane.in** \n",
    "\n",
    "Consider the following issues:\n",
    "\n",
    "> Q4: What happens in the first part of the simulation? Can you fix this by changing the input file **co_methane.in**?\n",
    "\n",
    "> Q5: Explain the global CO distribution and magnitudes from methane oxidation\n",
    "\n",
    "> Q6: Can the seasonal cycle of CO be explained by the methane oxidation source? Why?\n",
    "\n",
    ">> Note that the use of **overplot** does not make sense here: you only simulate part fo the CO!\n"
   ]
  },
  {
   "cell_type": "code",
   "execution_count": 1,
   "metadata": {
    "scrolled": false
   },
   "outputs": [
    {
     "data": {
      "application/vnd.jupyter.widget-view+json": {
       "model_id": "78b214d3db084130b2051e5c3a59709c",
       "version_major": 2,
       "version_minor": 0
      },
      "text/html": [
       "<p>Failed to display Jupyter Widget of type <code>Box</code>.</p>\n",
       "<p>\n",
       "  If you're reading this message in the Jupyter Notebook or JupyterLab Notebook, it may mean\n",
       "  that the widgets JavaScript is still loading. If this message persists, it\n",
       "  likely means that the widgets JavaScript library is either not installed or\n",
       "  not enabled. See the <a href=\"https://ipywidgets.readthedocs.io/en/stable/user_install.html\">Jupyter\n",
       "  Widgets Documentation</a> for setup instructions.\n",
       "</p>\n",
       "<p>\n",
       "  If you're reading this message in another frontend (for example, a static\n",
       "  rendering on GitHub or <a href=\"https://nbviewer.jupyter.org/\">NBViewer</a>),\n",
       "  it may mean that your frontend doesn't currently support widgets.\n",
       "</p>\n"
      ],
      "text/plain": [
       "Box(children=(Box(children=(Dropdown(description=u'Inputfile', options=('Exercise1.in', 'Exercise1b.in', 'TrainingNew.in', 'co_budget.in', 'co_budget1.in', 'co_methane.in', 'co_simualtion.in', 'fossil.in', 'fossil2.in', 'fossil3.in', 'inter1.in', 'inter2.in', 'inter3.in', 'inter4.in', 'inter_nokonv1.in', 'inter_nokonv2.in', 'japan.in', 'mcf.in', 'mcf_new.in', 'mcf_newest.in', 'point.in', 'pointt.in', 'radon_konv1.in', 'radon_konv2.in', 'radon_nokonv1.in', 'radon_nokonv2.in', 'test4.in'), value='Exercise1.in'), Button(description=u'Run Model', style=ButtonStyle()), ToggleButton(value=False, description=u'Make Plots'), ToggleButton(value=False, description=u'Overplot')), layout=Layout(display=u'flex', flex_flow=u'row', justify_content=u'space-between')), Box(children=(SelectMultiple(description=u'Output', index=(0,), options=('xx',), value=('xx',)), SelectMultiple(index=(0,), options=('no station',), value=('no station',)), SelectMultiple(layout=Layout(visibility=u'hidden'), options=('no station',), value=())), layout=Layout(display=u'flex', flex_flow=u'row', justify_content=u'space-between')), Box(children=(Label(value=u'conversion'), ToggleButtons(options=('mol/mol', 'ppm', 'ppb', 'ppt'), value='mol/mol')), layout=Layout(display=u'flex', flex_flow=u'row', justify_content=u'space-between')), Box(children=(Label(value=u'# levels', layout=Layout(visibility=u'hidden')), IntSlider(value=10, layout=Layout(visibility=u'hidden'), max=30, min=5), Checkbox(value=True, description=u'grid'), Checkbox(value=True, description=u'automatic')), layout=Layout(display=u'flex', flex_flow=u'row', justify_content=u'space-between')), Box(children=(Label(value=u'yMin, yMax', layout=Layout(visibility=u'hidden')), BoundedFloatText(value=0.0, description=u'Min', layout=Layout(visibility=u'hidden'), max=10000000000.0), BoundedFloatText(value=10000000000.0, description=u'Max', layout=Layout(visibility=u'hidden'), max=100000000000.0)), layout=Layout(display=u'flex', flex_flow=u'row', justify_content=u'space-between')), Box(children=(Label(value=u'xMin, xMax', layout=Layout(visibility=u'hidden')), BoundedFloatText(value=1900.0849315068492, description=u'Tmin', layout=Layout(visibility=u'hidden'), max=2020.0849315068492), BoundedFloatText(value=2020.0849315068492, description=u'Tmax', layout=Layout(visibility=u'hidden'), max=20200.84931506849, min=1900.0849315068492)), layout=Layout(display=u'flex', flex_flow=u'row', justify_content=u'space-between'))), layout=Layout(align_items=u'stretch', border=u'solid 2px', display=u'flex', flex_flow=u'column', width=u'100%'))"
      ]
     },
     "metadata": {},
     "output_type": "display_data"
    },
    {
     "data": {
      "application/vnd.jupyter.widget-view+json": {
       "model_id": "e35f645bda5b4e929881943c66154e2f",
       "version_major": 2,
       "version_minor": 0
      },
      "text/html": [
       "<p>Failed to display Jupyter Widget of type <code>interactive</code>.</p>\n",
       "<p>\n",
       "  If you're reading this message in the Jupyter Notebook or JupyterLab Notebook, it may mean\n",
       "  that the widgets JavaScript is still loading. If this message persists, it\n",
       "  likely means that the widgets JavaScript library is either not installed or\n",
       "  not enabled. See the <a href=\"https://ipywidgets.readthedocs.io/en/stable/user_install.html\">Jupyter\n",
       "  Widgets Documentation</a> for setup instructions.\n",
       "</p>\n",
       "<p>\n",
       "  If you're reading this message in another frontend (for example, a static\n",
       "  rendering on GitHub or <a href=\"https://nbviewer.jupyter.org/\">NBViewer</a>),\n",
       "  it may mean that your frontend doesn't currently support widgets.\n",
       "</p>\n"
      ],
      "text/plain": [
       "interactive(children=(ToggleButton(value=False, description=u'Make Plots'), Output()), _dom_classes=('widget-interact',))"
      ]
     },
     "metadata": {},
     "output_type": "display_data"
    }
   ],
   "source": [
    "from plot_moguntia import *\n",
    "pm2 = plot_moguntia()"
   ]
  },
  {
   "cell_type": "markdown",
   "metadata": {},
   "source": [
    "### Surface Sources\n",
    "\n",
    "Now we will investigate the contributions from the various surface sources. The various emission categories are displayed in Figure 4. The input files **co_budget.in** define a simulation with industrial emissions as the only CO source. Oxidation of OH is still turned on, and the initial CO mixing ratio is set to 30 ppb.\n",
    "\n",
    "> 1. Run MOGUNTIA with the input file **co_budget.in**\n",
    "> 2. Then run MOGUNTIA also with other sources (see figure 4) switched on, one by one. \n",
    "\n",
    ">> For example: to activate only the biomass sources, the input file should look like the one below. Remember that a line that starts with a space in the input file means that the this line is not considered\n",
    "\n",
    "    TITLE co_budget_bmb\n",
    "    NAME co\n",
    "    MOLMASS 28.0\n",
    "    START_CONCENTRATION 30.0\n",
    "    EMISSION FILE co_emissions_bmb.dat\n",
    "\n",
    "Consider the following:\n",
    "\n",
    "> Q7: Discuss the contribution of the various sources to the mixing ratios measured at the stations\n",
    "\n",
    "> Q8: Concerning the comparison to observations: Would it help to increase one of the source categories? Discuss.\n",
    "\n",
    "\n",
    "<figure>\n",
    "  <img src=\"co_emissions_ind.png\", width=\"400\" height=\"250\">\n",
    "  <img src=\"co_emissions_bmb.png\", width=\"400\" height=\"250\">\n",
    "  <img src=\"co_emissions_rest.png\", width=\"400\" height=\"250\">\n",
    "  <figcaption> <i>Figure 4: CO emissions from industry (top), biomass burning (middle), and other surface sources (bottom)</i></figcaption>\n",
    "</figure>"
   ]
  },
  {
   "cell_type": "markdown",
   "metadata": {},
   "source": [
    "### End of exercise CO"
   ]
  }
 ],
 "metadata": {
  "kernelspec": {
   "display_name": "Python 3",
   "language": "python",
   "name": "python3"
  },
  "language_info": {
   "codemirror_mode": {
    "name": "ipython",
    "version": 3
   },
   "file_extension": ".py",
   "mimetype": "text/x-python",
   "name": "python",
   "nbconvert_exporter": "python",
   "pygments_lexer": "ipython3",
   "version": "3.6.11"
  }
 },
 "nbformat": 4,
 "nbformat_minor": 1
}
