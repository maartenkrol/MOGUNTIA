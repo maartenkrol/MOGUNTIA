{
 "cells": [
  {
   "cell_type": "markdown",
   "metadata": {},
   "source": [
    "# Meteo in MOGUNTIA\n",
    "\n",
    "The meteo in MOGUNTIA is provided by the ECMWF weather model. A weather model assimilates observations in combination with a numerical model (describing the physical processes in the atmosphere) to produce a weather forecast (e.g. 2x a day at 00-UTC and 12-UTC). This is an representation of the atmosperic state (temperature, moisture) and its motions (winds) that are used in MOGUNTIA to transport \"tracers\", such as CO and CO$_2$. \n",
    "MOGUNTIA is however relatively simple in its approach. The winds are averaged over a whole month of the year 1987. So the winds in MOGUNTIA are not representing day to day vaiability and are in principle not valid to simulate years other than 1987. However, 1987 was a rather normal year, and the monthly averaged winds still give a good representation of the month-to-month variation in the atmosphere, such as the monsoon and the atmospheric jet-stream.\n",
    "\n",
    "The small program below reads in the MOGUNTIA winds and lets you explore the wind fields per month, atmospheric layer (1000 - 100 hPa) and as pressure-latitude/longitude plots."
   ]
  },
  {
   "cell_type": "markdown",
   "metadata": {},
   "source": [
    "### Investigate the winds in MOGUNTIA\n",
    "\n",
    "The meteo in MOGUNTIA is provided by the ECMWF weather model. A weather model assimilates observations in combination with a numerical model (describing the physical processes in the atmosphere) to produce a weather forecast (e.g. 2x a day at 00-UTC and 12-UTC). This is an representation of the atmosperic state (temperature, moisture) and its motions (winds) that are used in MOGUNTIA to transport \"tracers\", such as CO and CO$_2$. \n",
    "\n",
    "MOGUNTIA is however relatively simple in its approach. The winds are averaged over a whole month of the year 1987. So the winds in MOGUNTIA are not representing day to day vaiability and are in principle not valid to simulate years other than 1987. However, 1987 was a rather normal year, and the monthly averaged winds still give a good representation of the month-to-month variation in the atmosphere, such as the monsoon and the atmospheric jet-stream.\n",
    "\n",
    "The small program below reads in the MOGUNTIA winds and lets you explore the wind fields per month, atmospheric layer (1000 - 100 hPa) and as pressure-latitude/longitude plots.\n",
    "\n",
    "Address the following issues:\n",
    "\n",
    "> * How do the horizantal wind speeds vary with height? Where is the maximum wind speed?\n",
    "> * Can you identiy the jet-stream?\n",
    "> * How does this jet differ between the Northern and Southern hemisphere?\n",
    "> * Can you see how the Hadley circulation changes thoughout the year?\n",
    "> * Where and when does the monsoon circulation show up?\n",
    "\n",
    "\n"
   ]
  },
  {
   "cell_type": "code",
   "execution_count": 1,
   "metadata": {
    "scrolled": false
   },
   "outputs": [
    {
     "data": {
      "application/vnd.jupyter.widget-view+json": {
       "model_id": "25be5aa38db7441b94c4161d50c7e47e",
       "version_major": 2,
       "version_minor": 0
      },
      "text/plain": [
       "interactive(children=(ToggleButtons(description='Plottype', options=('zonal-aver', 'lon-pres', 'lat-pres', 'la…"
      ]
     },
     "metadata": {},
     "output_type": "display_data"
    }
   ],
   "source": [
    "%matplotlib inline\n",
    "\n",
    "from Cwind import *\n",
    "xwind = Cwind()\n",
    "a = interact(xwind.plot_wind, \n",
    "         action=xwind.action,\n",
    "         month=xwind.m_slider,\n",
    "         lon=xwind.lon_slider,\n",
    "         lat=xwind.lat_slider,\n",
    "         pres=xwind.pres_slider)\n",
    "\n",
    "\n"
   ]
  },
  {
   "cell_type": "code",
   "execution_count": null,
   "metadata": {},
   "outputs": [],
   "source": []
  }
 ],
 "metadata": {
  "kernelspec": {
   "display_name": "Python 3",
   "language": "python",
   "name": "python3"
  },
  "language_info": {
   "codemirror_mode": {
    "name": "ipython",
    "version": 3
   },
   "file_extension": ".py",
   "mimetype": "text/x-python",
   "name": "python",
   "nbconvert_exporter": "python",
   "pygments_lexer": "ipython3",
   "version": "3.6.3"
  }
 },
 "nbformat": 4,
 "nbformat_minor": 1
}
