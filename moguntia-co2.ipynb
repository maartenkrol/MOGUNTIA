{
 "cells": [
  {
   "cell_type": "markdown",
   "metadata": {},
   "source": [
    "\n",
    "# MOGUNTIA exercises\n",
    "\n",
    "---------\n",
    "<FONT COLOR=red>\n",
    "\n",
    "# The atmospheric CO$_2$ budget \n",
    "\n",
    "<FONT COLOR=black> \n",
    "\n",
    "\n",
    "----------\n",
    "\n",
    "\n",
    "##### Maarten Krol, September 2019\n",
    "##### version 2.1\n",
    "\n",
    "### Goal\n",
    "\n",
    "* Simulate the growth in atmospheric mixing ratios of CO$_2$ as a result of fossil fuel emissions.\n",
    "* Compare the simulated growth rate to observed growth rates.\n",
    "* estimate what fraction of the emitted CO$_2$ stays in the atmosphere. \n",
    "* Separate the ocean and biosphere CO$_2$ uptake.\n",
    "\n",
    "\n",
    "### Introduction\n",
    "\n",
    "The atmospheric mixing ratio of CO$_2$ has been increasing from about 330 ppm in 1974 to about 400 ppm in 2015 (see figure 1). There is little doubt that the anthropogenic CO$_2$ emissions that are related to fossil fuel use are responsible for the increase in atmospheric CO$_2$ mixing ratios. \n",
    "But what would be the increase in atmospheric burden if all the CO$_2$ would remain in the atmosphere? \n",
    "And what is the gradient between the Northern Hemisphere (most emissions) and the Southern hemisphere (less emissions)?\n",
    "To test this, CO$_2$ will be added to the MOGUNTIA model as an non-reactive tracer with only fossil fuel emissions. Other processes, such as uptake by the biosphere, oceans, and emission as a result of biomass burning, are initially ignored.\n",
    "<figure>\n",
    "  <img src=\"MLO.png\", width=\"600\" height=\"400\">\n",
    "  <figcaption> <i>Figure 1: Atmospheric CO$_2$ concentrations measured at Mauna Loa by NOAA/ESRL, Units are in $\\mu$mol mol$^{-1}$ which is equivalent to ppm.\n",
    "</i></figcaption>\n",
    "</figure>\n",
    "\n",
    "In order to compare to model to a real atmosphere (use **Overplot**), measurements taken by NOAA ESRL will be used. The link is given below. Also, the Carbon Dioxide Information Analysis Center provides estimates of world-wide CO$_2$ emissions. The web-addresses are used throughout the exercises.\n",
    "\n",
    "<table>\n",
    "  <caption>Table 1: Relevant web-addresses for the exercises</caption>\n",
    "<tr>\n",
    "<td>CO$_2$ measurements made by NOAA ESRL</td>\n",
    "<td><a href=\"http://www.esrl.noaa.gov/gmd/dv/iadv/\">http://www.esrl.noaa.gov/gmd/dv/iadv/</a></td>\n",
    "</tr>\n",
    "<tr>\n",
    "<td>CDIAC estimates of fossil emissions CO$_2$</td>\n",
    "<td><a href=\"http://cdiac.ornl.gov/trends/emis/overview_2006.html\">http://cdiac.ornl.gov/trends/emis/overview_2006.html</a></td>\n",
    "</tr>\n",
    "</table>\n",
    "\n",
    "In the following exercises, it will be attempted to:\n",
    "\n",
    "* Quantify the relation between fossil fuel emissions and CO$_2$ growth rates\n",
    "* Investigate wether the North-South gradient is well simulated by the model\n",
    "* Estimate what fraction of the fossil fuel emissions stays in the atmosphere\n",
    "* Study the impact of uptake by oceans and biosphere\n",
    "\n"
   ]
  },
  {
   "cell_type": "markdown",
   "metadata": {},
   "source": [
    "### Exercise 1: CO$_2$ rate of change\n",
    "\n",
    "First, the MOGUNTIA model has to initialised. A prelimanary input file fossil.in is provided as a starting point. Note that the **MOLMASS** is defined as 12, since all fossile input data are normally given in Millions of Tonnes (1 pG = 1000 Million Tonnes) of carbon. Note also that the CO$_2$ emission distribution is read from a file. Logically, highest emissions are found over industrialised and densily populated areas.\n",
    "\n",
    "Initially, the model will be run for four years (2000, 2001, 2002, 2003) with the CDIAC fossil fuel emissions.\n",
    "\n",
    "> * Run MOGUNTIA (**Shift-Enter** in cell below) with the input file **fossil.in**\n",
    ">>  You can add stations in **fossil.in** if you like (see <a href=\"http://www.staff.science.uu.nl/~krol0101/moguntia/MANUAL/moguntia.doc/\">description model input</a>)\n",
    "\n",
    "> * Analyze the output. Note the CO$_2$ is normally given in units **ppm**\n",
    "\n",
    ">  Q1: Where do you observe the highest mixing ratios at the surface?\n",
    "\n",
    ">  Q2: Discuss the growth rate observed at the stations\n",
    "\n",
    ">  Q3: How does the growth rate compare to the observed growth-rate at measurement stations? (use the overplot function)\n",
    "\n",
    ">  Q4: Estimate the North-South gradient and compare to observations\n",
    "\n",
    "\n",
    "> * In order to get a first estimate of the CO$_2$ that is taken up by the oceans and biosphere, try to reduce the emissions and rerun the model to get a good correspondance to the observed growth rate. If needed, adjust the initial concentration and/or the end date in **fossil.in**:\n",
    "        START_CONCENTRATION 360e3\n",
    "        END_DATE 20040101\n",
    "\n",
    "\n"
   ]
  },
  {
   "cell_type": "code",
   "execution_count": 3,
   "metadata": {},
   "outputs": [
    {
     "data": {
      "application/vnd.jupyter.widget-view+json": {
       "model_id": "1819dc066cb3494d87023d98908c5e48",
       "version_major": 2,
       "version_minor": 0
      },
      "text/html": [
       "<p>Failed to display Jupyter Widget of type <code>Box</code>.</p>\n",
       "<p>\n",
       "  If you're reading this message in the Jupyter Notebook or JupyterLab Notebook, it may mean\n",
       "  that the widgets JavaScript is still loading. If this message persists, it\n",
       "  likely means that the widgets JavaScript library is either not installed or\n",
       "  not enabled. See the <a href=\"https://ipywidgets.readthedocs.io/en/stable/user_install.html\">Jupyter\n",
       "  Widgets Documentation</a> for setup instructions.\n",
       "</p>\n",
       "<p>\n",
       "  If you're reading this message in another frontend (for example, a static\n",
       "  rendering on GitHub or <a href=\"https://nbviewer.jupyter.org/\">NBViewer</a>),\n",
       "  it may mean that your frontend doesn't currently support widgets.\n",
       "</p>\n"
      ],
      "text/plain": [
       "Box(children=(Box(children=(Dropdown(description=u'Inputfile', options=('Exercise1.in', 'Exercise1b.in', 'TrainingNew.in', 'co_budget.in', 'co_budget1.in', 'co_methane.in', 'co_simualtion.in', 'fossil.in', 'fossil2.in', 'fossil3.in', 'inter1.in', 'inter2.in', 'inter3.in', 'inter4.in', 'inter_nokonv1.in', 'inter_nokonv2.in', 'japan.in', 'mcf.in', 'mcf_new.in', 'mcf_newest.in', 'point.in', 'pointt.in', 'radon_konv1.in', 'radon_konv2.in', 'radon_nokonv1.in', 'radon_nokonv2.in', 'test4.in'), value='Exercise1.in'), Button(description=u'Run Model', style=ButtonStyle()), ToggleButton(value=False, description=u'Make Plots'), ToggleButton(value=False, description=u'Overplot')), layout=Layout(display=u'flex', flex_flow=u'row', justify_content=u'space-between')), Box(children=(SelectMultiple(description=u'Output', index=(0,), options=('xx',), value=('xx',)), SelectMultiple(index=(0,), options=('no station',), value=('no station',)), SelectMultiple(layout=Layout(visibility=u'hidden'), options=('no station',), value=())), layout=Layout(display=u'flex', flex_flow=u'row', justify_content=u'space-between')), Box(children=(Label(value=u'conversion'), ToggleButtons(options=('mol/mol', 'ppm', 'ppb', 'ppt'), value='mol/mol')), layout=Layout(display=u'flex', flex_flow=u'row', justify_content=u'space-between')), Box(children=(Label(value=u'# levels', layout=Layout(visibility=u'hidden')), IntSlider(value=10, layout=Layout(visibility=u'hidden'), max=30, min=5), Checkbox(value=True, description=u'grid'), Checkbox(value=True, description=u'automatic')), layout=Layout(display=u'flex', flex_flow=u'row', justify_content=u'space-between')), Box(children=(Label(value=u'yMin, yMax', layout=Layout(visibility=u'hidden')), BoundedFloatText(value=0.0, description=u'Min', layout=Layout(visibility=u'hidden'), max=10000000000.0), BoundedFloatText(value=10000000000.0, description=u'Max', layout=Layout(visibility=u'hidden'), max=100000000000.0)), layout=Layout(display=u'flex', flex_flow=u'row', justify_content=u'space-between')), Box(children=(Label(value=u'xMin, xMax', layout=Layout(visibility=u'hidden')), BoundedFloatText(value=1900.0849315068492, description=u'Tmin', layout=Layout(visibility=u'hidden'), max=2020.0849315068492), BoundedFloatText(value=2020.0849315068492, description=u'Tmax', layout=Layout(visibility=u'hidden'), max=20200.84931506849, min=1900.0849315068492)), layout=Layout(display=u'flex', flex_flow=u'row', justify_content=u'space-between'))), layout=Layout(align_items=u'stretch', border=u'solid 2px', display=u'flex', flex_flow=u'column', width=u'100%'))"
      ]
     },
     "metadata": {},
     "output_type": "display_data"
    },
    {
     "data": {
      "application/vnd.jupyter.widget-view+json": {
       "model_id": "a40021b754504e46b6dd2734971a2dbd",
       "version_major": 2,
       "version_minor": 0
      },
      "text/html": [
       "<p>Failed to display Jupyter Widget of type <code>interactive</code>.</p>\n",
       "<p>\n",
       "  If you're reading this message in the Jupyter Notebook or JupyterLab Notebook, it may mean\n",
       "  that the widgets JavaScript is still loading. If this message persists, it\n",
       "  likely means that the widgets JavaScript library is either not installed or\n",
       "  not enabled. See the <a href=\"https://ipywidgets.readthedocs.io/en/stable/user_install.html\">Jupyter\n",
       "  Widgets Documentation</a> for setup instructions.\n",
       "</p>\n",
       "<p>\n",
       "  If you're reading this message in another frontend (for example, a static\n",
       "  rendering on GitHub or <a href=\"https://nbviewer.jupyter.org/\">NBViewer</a>),\n",
       "  it may mean that your frontend doesn't currently support widgets.\n",
       "</p>\n"
      ],
      "text/plain": [
       "interactive(children=(ToggleButton(value=False, description=u'Make Plots'), Output()), _dom_classes=('widget-interact',))"
      ]
     },
     "metadata": {},
     "output_type": "display_data"
    }
   ],
   "source": [
    "# MOGUNTIA run widgets:\n",
    "from plot_moguntia import *\n",
    "pm = plot_moguntia()"
   ]
  },
  {
   "cell_type": "markdown",
   "metadata": {
    "collapsed": true
   },
   "source": [
    "### Exercise 2: Uptake of CO$_2$\n",
    "\n",
    "In order to estimate the long-term average uptake of CO$_2$ in a more sophisticated way, the diagram depicted in Figure 2 is used.\n",
    "\n",
    "<figure>\n",
    "  <img src=\"co2_budget.png\", width=\"600\" height=\"400\">\n",
    "  <figcaption> <i>Figure 2: Diagram showing the estimated budget for CO$_2$. Blue numbers indicate fluxes in GtC/yr and black numbers indate reservoirs in GtC. 1 GtC corresponds to 10$^{12}$ gC, or 1 PgC.\n",
    "</i></figcaption>\n",
    "</figure>\n",
    "\n",
    "From the net uptake of CO$_2$, e.g. to the oceans, a lifetime can be calculated by dividing the atmospheric burden by the net-uptake. The task is now to test these numbers in MOGUNTIA. For that reason, the input file is modified in the following way:\n",
    "\n",
    "> * Extend the simulation period, e.g. to 1995-2003 by looking up the relevant emission data (see link above)\n",
    "> * Define some stations that can be directly compared to measurements (NOAA ESRL, use **Overplot**)\n",
    "> * Define a correct initial concentration, based on measured atmospheric mixing ratios\n",
    "> * Examine **fossil2.in** to see how to use SINK to calculate the uptake by oceans and/or the biosphere\n",
    "> * Calculate the CO$_2$ growth with and without the biosphere uptake\n",
    "\n",
    "Address the following issues:\n",
    "\n",
    "> Q5: How does the biosphere affect the growthrate of CO$_2$?\n",
    "\n",
    "> Q6: How is the seasonal cycle affected on the northern and southern hemispheres?\n",
    "\n",
    "> Q7: How do the new simulations compare to measurements?\n",
    "\n",
    "> Q8: Repeat the calculations for:\n",
    "\n",
    ">> The sink to the oceans (SINK FILE co2_sink_oc.dat)\n",
    "\n",
    ">> The sink to both the oceans and the biosphere (SINK FILE co2_sink_ocbio.dat)\n",
    "\n",
    "> Q9: Discuss the results and compare to measurement time series.\n",
    "\n",
    "### Extra: Land Sink\n",
    "\n",
    "The land sink is largely uncertain. In order to improve the comparison between model and observations, an extra option is included that allows to define an extra uptake of CO$_2$ by the land biosphere:\n",
    "\n",
    "            SINK EXTRA_LAND 1\n",
    "\n",
    "This statement in the input file will enhance the land sink by 1 PgC yr$^{-1}$.\n",
    "\n",
    "> * Edit input file **fossil3.in**. Adjust the extra land sink, check the yearly emissions, and test\n",
    "\n",
    "> Q10: What is the magnitude of the land sink that leads to the \"best\" match with observations?\n",
    "\n",
    ">>  You are stimulated to compare to station observations at various latitudes, over land, and over oceans\n"
   ]
  },
  {
   "cell_type": "code",
   "execution_count": 4,
   "metadata": {},
   "outputs": [
    {
     "data": {
      "application/vnd.jupyter.widget-view+json": {
       "model_id": "fcbcc0e75a8f437db112969c13d73e8c",
       "version_major": 2,
       "version_minor": 0
      },
      "text/html": [
       "<p>Failed to display Jupyter Widget of type <code>Box</code>.</p>\n",
       "<p>\n",
       "  If you're reading this message in the Jupyter Notebook or JupyterLab Notebook, it may mean\n",
       "  that the widgets JavaScript is still loading. If this message persists, it\n",
       "  likely means that the widgets JavaScript library is either not installed or\n",
       "  not enabled. See the <a href=\"https://ipywidgets.readthedocs.io/en/stable/user_install.html\">Jupyter\n",
       "  Widgets Documentation</a> for setup instructions.\n",
       "</p>\n",
       "<p>\n",
       "  If you're reading this message in another frontend (for example, a static\n",
       "  rendering on GitHub or <a href=\"https://nbviewer.jupyter.org/\">NBViewer</a>),\n",
       "  it may mean that your frontend doesn't currently support widgets.\n",
       "</p>\n"
      ],
      "text/plain": [
       "Box(children=(Box(children=(Dropdown(description=u'Inputfile', options=('Exercise1.in', 'Exercise1b.in', 'TrainingNew.in', 'co_budget.in', 'co_budget1.in', 'co_methane.in', 'co_simualtion.in', 'fossil.in', 'fossil2.in', 'fossil3.in', 'inter1.in', 'inter2.in', 'inter3.in', 'inter4.in', 'inter_nokonv1.in', 'inter_nokonv2.in', 'japan.in', 'mcf.in', 'mcf_new.in', 'mcf_newest.in', 'point.in', 'pointt.in', 'radon_konv1.in', 'radon_konv2.in', 'radon_nokonv1.in', 'radon_nokonv2.in', 'test4.in'), value='Exercise1.in'), Button(description=u'Run Model', style=ButtonStyle()), ToggleButton(value=False, description=u'Make Plots'), ToggleButton(value=False, description=u'Overplot')), layout=Layout(display=u'flex', flex_flow=u'row', justify_content=u'space-between')), Box(children=(SelectMultiple(description=u'Output', index=(0,), options=('xx',), value=('xx',)), SelectMultiple(index=(0,), options=('no station',), value=('no station',)), SelectMultiple(layout=Layout(visibility=u'hidden'), options=('no station',), value=())), layout=Layout(display=u'flex', flex_flow=u'row', justify_content=u'space-between')), Box(children=(Label(value=u'conversion'), ToggleButtons(options=('mol/mol', 'ppm', 'ppb', 'ppt'), value='mol/mol')), layout=Layout(display=u'flex', flex_flow=u'row', justify_content=u'space-between')), Box(children=(Label(value=u'# levels', layout=Layout(visibility=u'hidden')), IntSlider(value=10, layout=Layout(visibility=u'hidden'), max=30, min=5), Checkbox(value=True, description=u'grid'), Checkbox(value=True, description=u'automatic')), layout=Layout(display=u'flex', flex_flow=u'row', justify_content=u'space-between')), Box(children=(Label(value=u'yMin, yMax', layout=Layout(visibility=u'hidden')), BoundedFloatText(value=0.0, description=u'Min', layout=Layout(visibility=u'hidden'), max=10000000000.0), BoundedFloatText(value=10000000000.0, description=u'Max', layout=Layout(visibility=u'hidden'), max=100000000000.0)), layout=Layout(display=u'flex', flex_flow=u'row', justify_content=u'space-between')), Box(children=(Label(value=u'xMin, xMax', layout=Layout(visibility=u'hidden')), BoundedFloatText(value=1900.0849315068492, description=u'Tmin', layout=Layout(visibility=u'hidden'), max=2020.0849315068492), BoundedFloatText(value=2020.0849315068492, description=u'Tmax', layout=Layout(visibility=u'hidden'), max=20200.84931506849, min=1900.0849315068492)), layout=Layout(display=u'flex', flex_flow=u'row', justify_content=u'space-between'))), layout=Layout(align_items=u'stretch', border=u'solid 2px', display=u'flex', flex_flow=u'column', width=u'100%'))"
      ]
     },
     "metadata": {},
     "output_type": "display_data"
    },
    {
     "data": {
      "application/vnd.jupyter.widget-view+json": {
       "model_id": "f5077de9833f48d08e6da9aef7780f57",
       "version_major": 2,
       "version_minor": 0
      },
      "text/html": [
       "<p>Failed to display Jupyter Widget of type <code>interactive</code>.</p>\n",
       "<p>\n",
       "  If you're reading this message in the Jupyter Notebook or JupyterLab Notebook, it may mean\n",
       "  that the widgets JavaScript is still loading. If this message persists, it\n",
       "  likely means that the widgets JavaScript library is either not installed or\n",
       "  not enabled. See the <a href=\"https://ipywidgets.readthedocs.io/en/stable/user_install.html\">Jupyter\n",
       "  Widgets Documentation</a> for setup instructions.\n",
       "</p>\n",
       "<p>\n",
       "  If you're reading this message in another frontend (for example, a static\n",
       "  rendering on GitHub or <a href=\"https://nbviewer.jupyter.org/\">NBViewer</a>),\n",
       "  it may mean that your frontend doesn't currently support widgets.\n",
       "</p>\n"
      ],
      "text/plain": [
       "interactive(children=(ToggleButton(value=False, description=u'Make Plots'), Output()), _dom_classes=('widget-interact',))"
      ]
     },
     "metadata": {},
     "output_type": "display_data"
    }
   ],
   "source": [
    "# MOGUNTIA run widgets:\n",
    "from plot_moguntia import *\n",
    "pm2 = plot_moguntia()"
   ]
  },
  {
   "cell_type": "code",
   "execution_count": null,
   "metadata": {},
   "outputs": [],
   "source": []
  }
 ],
 "metadata": {
  "kernelspec": {
   "display_name": "Python 2",
   "language": "python",
   "name": "python2"
  },
  "language_info": {
   "codemirror_mode": {
    "name": "ipython",
    "version": 2
   },
   "file_extension": ".py",
   "mimetype": "text/x-python",
   "name": "python",
   "nbconvert_exporter": "python",
   "pygments_lexer": "ipython2",
   "version": "2.7.15"
  }
 },
 "nbformat": 4,
 "nbformat_minor": 1
}
